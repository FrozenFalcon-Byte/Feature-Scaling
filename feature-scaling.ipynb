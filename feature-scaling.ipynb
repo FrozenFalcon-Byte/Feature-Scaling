{
 "cells": [
  {
   "cell_type": "code",
   "execution_count": 1,
   "id": "93cad1b7",
   "metadata": {
    "_cell_guid": "b1076dfc-b9ad-4769-8c92-a6c4dae69d19",
    "_uuid": "8f2839f25d086af736a60e9eeb907d3b93b6e0e5",
    "execution": {
     "iopub.execute_input": "2025-08-15T14:54:45.563540Z",
     "iopub.status.busy": "2025-08-15T14:54:45.562748Z",
     "iopub.status.idle": "2025-08-15T14:54:47.674024Z",
     "shell.execute_reply": "2025-08-15T14:54:47.672772Z"
    },
    "papermill": {
     "duration": 2.12094,
     "end_time": "2025-08-15T14:54:47.675742",
     "exception": false,
     "start_time": "2025-08-15T14:54:45.554802",
     "status": "completed"
    },
    "tags": []
   },
   "outputs": [
    {
     "name": "stdout",
     "output_type": "stream",
     "text": [
      "/kaggle/input/social-network-ads/Social_Network_Ads.csv\n"
     ]
    }
   ],
   "source": [
    "# This Python 3 environment comes with many helpful analytics libraries installed\n",
    "# It is defined by the kaggle/python Docker image: https://github.com/kaggle/docker-python\n",
    "# For example, here's several helpful packages to load\n",
    "\n",
    "import numpy as np # linear algebra\n",
    "import pandas as pd # data processing, CSV file I/O (e.g. pd.read_csv)\n",
    "\n",
    "# Input data files are available in the read-only \"../input/\" directory\n",
    "# For example, running this (by clicking run or pressing Shift+Enter) will list all files under the input directory\n",
    "\n",
    "import os\n",
    "for dirname, _, filenames in os.walk('/kaggle/input'):\n",
    "    for filename in filenames:\n",
    "        print(os.path.join(dirname, filename))\n",
    "\n",
    "# You can write up to 20GB to the current directory (/kaggle/working/) that gets preserved as output when you create a version using \"Save & Run All\" \n",
    "# You can also write temporary files to /kaggle/temp/, but they won't be saved outside of the current session"
   ]
  },
  {
   "cell_type": "code",
   "execution_count": 2,
   "id": "611d5152",
   "metadata": {
    "execution": {
     "iopub.execute_input": "2025-08-15T14:54:47.686994Z",
     "iopub.status.busy": "2025-08-15T14:54:47.686550Z",
     "iopub.status.idle": "2025-08-15T14:54:47.705520Z",
     "shell.execute_reply": "2025-08-15T14:54:47.704610Z"
    },
    "papermill": {
     "duration": 0.026544,
     "end_time": "2025-08-15T14:54:47.707314",
     "exception": false,
     "start_time": "2025-08-15T14:54:47.680770",
     "status": "completed"
    },
    "tags": []
   },
   "outputs": [],
   "source": [
    "df = pd.read_csv(\"/kaggle/input/social-network-ads/Social_Network_Ads.csv\")"
   ]
  },
  {
   "cell_type": "code",
   "execution_count": 3,
   "id": "c25f44af",
   "metadata": {
    "execution": {
     "iopub.execute_input": "2025-08-15T14:54:47.717762Z",
     "iopub.status.busy": "2025-08-15T14:54:47.717481Z",
     "iopub.status.idle": "2025-08-15T14:54:47.749729Z",
     "shell.execute_reply": "2025-08-15T14:54:47.748800Z"
    },
    "papermill": {
     "duration": 0.039266,
     "end_time": "2025-08-15T14:54:47.751351",
     "exception": false,
     "start_time": "2025-08-15T14:54:47.712085",
     "status": "completed"
    },
    "tags": []
   },
   "outputs": [
    {
     "data": {
      "text/html": [
       "<div>\n",
       "<style scoped>\n",
       "    .dataframe tbody tr th:only-of-type {\n",
       "        vertical-align: middle;\n",
       "    }\n",
       "\n",
       "    .dataframe tbody tr th {\n",
       "        vertical-align: top;\n",
       "    }\n",
       "\n",
       "    .dataframe thead th {\n",
       "        text-align: right;\n",
       "    }\n",
       "</style>\n",
       "<table border=\"1\" class=\"dataframe\">\n",
       "  <thead>\n",
       "    <tr style=\"text-align: right;\">\n",
       "      <th></th>\n",
       "      <th>Age</th>\n",
       "      <th>EstimatedSalary</th>\n",
       "      <th>Purchased</th>\n",
       "    </tr>\n",
       "  </thead>\n",
       "  <tbody>\n",
       "    <tr>\n",
       "      <th>0</th>\n",
       "      <td>19</td>\n",
       "      <td>19000</td>\n",
       "      <td>0</td>\n",
       "    </tr>\n",
       "    <tr>\n",
       "      <th>1</th>\n",
       "      <td>35</td>\n",
       "      <td>20000</td>\n",
       "      <td>0</td>\n",
       "    </tr>\n",
       "    <tr>\n",
       "      <th>2</th>\n",
       "      <td>26</td>\n",
       "      <td>43000</td>\n",
       "      <td>0</td>\n",
       "    </tr>\n",
       "    <tr>\n",
       "      <th>3</th>\n",
       "      <td>27</td>\n",
       "      <td>57000</td>\n",
       "      <td>0</td>\n",
       "    </tr>\n",
       "    <tr>\n",
       "      <th>4</th>\n",
       "      <td>19</td>\n",
       "      <td>76000</td>\n",
       "      <td>0</td>\n",
       "    </tr>\n",
       "    <tr>\n",
       "      <th>...</th>\n",
       "      <td>...</td>\n",
       "      <td>...</td>\n",
       "      <td>...</td>\n",
       "    </tr>\n",
       "    <tr>\n",
       "      <th>395</th>\n",
       "      <td>46</td>\n",
       "      <td>41000</td>\n",
       "      <td>1</td>\n",
       "    </tr>\n",
       "    <tr>\n",
       "      <th>396</th>\n",
       "      <td>51</td>\n",
       "      <td>23000</td>\n",
       "      <td>1</td>\n",
       "    </tr>\n",
       "    <tr>\n",
       "      <th>397</th>\n",
       "      <td>50</td>\n",
       "      <td>20000</td>\n",
       "      <td>1</td>\n",
       "    </tr>\n",
       "    <tr>\n",
       "      <th>398</th>\n",
       "      <td>36</td>\n",
       "      <td>33000</td>\n",
       "      <td>0</td>\n",
       "    </tr>\n",
       "    <tr>\n",
       "      <th>399</th>\n",
       "      <td>49</td>\n",
       "      <td>36000</td>\n",
       "      <td>1</td>\n",
       "    </tr>\n",
       "  </tbody>\n",
       "</table>\n",
       "<p>400 rows × 3 columns</p>\n",
       "</div>"
      ],
      "text/plain": [
       "     Age  EstimatedSalary  Purchased\n",
       "0     19            19000          0\n",
       "1     35            20000          0\n",
       "2     26            43000          0\n",
       "3     27            57000          0\n",
       "4     19            76000          0\n",
       "..   ...              ...        ...\n",
       "395   46            41000          1\n",
       "396   51            23000          1\n",
       "397   50            20000          1\n",
       "398   36            33000          0\n",
       "399   49            36000          1\n",
       "\n",
       "[400 rows x 3 columns]"
      ]
     },
     "execution_count": 3,
     "metadata": {},
     "output_type": "execute_result"
    }
   ],
   "source": [
    "df"
   ]
  },
  {
   "cell_type": "code",
   "execution_count": 4,
   "id": "b4c362e3",
   "metadata": {
    "execution": {
     "iopub.execute_input": "2025-08-15T14:54:47.763621Z",
     "iopub.status.busy": "2025-08-15T14:54:47.762693Z",
     "iopub.status.idle": "2025-08-15T14:54:47.772958Z",
     "shell.execute_reply": "2025-08-15T14:54:47.771855Z"
    },
    "papermill": {
     "duration": 0.017989,
     "end_time": "2025-08-15T14:54:47.774767",
     "exception": false,
     "start_time": "2025-08-15T14:54:47.756778",
     "status": "completed"
    },
    "tags": []
   },
   "outputs": [
    {
     "data": {
      "text/html": [
       "<div>\n",
       "<style scoped>\n",
       "    .dataframe tbody tr th:only-of-type {\n",
       "        vertical-align: middle;\n",
       "    }\n",
       "\n",
       "    .dataframe tbody tr th {\n",
       "        vertical-align: top;\n",
       "    }\n",
       "\n",
       "    .dataframe thead th {\n",
       "        text-align: right;\n",
       "    }\n",
       "</style>\n",
       "<table border=\"1\" class=\"dataframe\">\n",
       "  <thead>\n",
       "    <tr style=\"text-align: right;\">\n",
       "      <th></th>\n",
       "      <th>Age</th>\n",
       "      <th>EstimatedSalary</th>\n",
       "    </tr>\n",
       "  </thead>\n",
       "  <tbody>\n",
       "    <tr>\n",
       "      <th>0</th>\n",
       "      <td>19</td>\n",
       "      <td>19000</td>\n",
       "    </tr>\n",
       "    <tr>\n",
       "      <th>1</th>\n",
       "      <td>35</td>\n",
       "      <td>20000</td>\n",
       "    </tr>\n",
       "    <tr>\n",
       "      <th>2</th>\n",
       "      <td>26</td>\n",
       "      <td>43000</td>\n",
       "    </tr>\n",
       "    <tr>\n",
       "      <th>3</th>\n",
       "      <td>27</td>\n",
       "      <td>57000</td>\n",
       "    </tr>\n",
       "    <tr>\n",
       "      <th>4</th>\n",
       "      <td>19</td>\n",
       "      <td>76000</td>\n",
       "    </tr>\n",
       "    <tr>\n",
       "      <th>...</th>\n",
       "      <td>...</td>\n",
       "      <td>...</td>\n",
       "    </tr>\n",
       "    <tr>\n",
       "      <th>395</th>\n",
       "      <td>46</td>\n",
       "      <td>41000</td>\n",
       "    </tr>\n",
       "    <tr>\n",
       "      <th>396</th>\n",
       "      <td>51</td>\n",
       "      <td>23000</td>\n",
       "    </tr>\n",
       "    <tr>\n",
       "      <th>397</th>\n",
       "      <td>50</td>\n",
       "      <td>20000</td>\n",
       "    </tr>\n",
       "    <tr>\n",
       "      <th>398</th>\n",
       "      <td>36</td>\n",
       "      <td>33000</td>\n",
       "    </tr>\n",
       "    <tr>\n",
       "      <th>399</th>\n",
       "      <td>49</td>\n",
       "      <td>36000</td>\n",
       "    </tr>\n",
       "  </tbody>\n",
       "</table>\n",
       "<p>400 rows × 2 columns</p>\n",
       "</div>"
      ],
      "text/plain": [
       "     Age  EstimatedSalary\n",
       "0     19            19000\n",
       "1     35            20000\n",
       "2     26            43000\n",
       "3     27            57000\n",
       "4     19            76000\n",
       "..   ...              ...\n",
       "395   46            41000\n",
       "396   51            23000\n",
       "397   50            20000\n",
       "398   36            33000\n",
       "399   49            36000\n",
       "\n",
       "[400 rows x 2 columns]"
      ]
     },
     "execution_count": 4,
     "metadata": {},
     "output_type": "execute_result"
    }
   ],
   "source": [
    "X = df.iloc[:, 0:2]\n",
    "X"
   ]
  },
  {
   "cell_type": "code",
   "execution_count": 5,
   "id": "abac8c9e",
   "metadata": {
    "execution": {
     "iopub.execute_input": "2025-08-15T14:54:47.786381Z",
     "iopub.status.busy": "2025-08-15T14:54:47.786056Z",
     "iopub.status.idle": "2025-08-15T14:54:47.793843Z",
     "shell.execute_reply": "2025-08-15T14:54:47.792993Z"
    },
    "papermill": {
     "duration": 0.015435,
     "end_time": "2025-08-15T14:54:47.795472",
     "exception": false,
     "start_time": "2025-08-15T14:54:47.780037",
     "status": "completed"
    },
    "tags": []
   },
   "outputs": [
    {
     "data": {
      "text/plain": [
       "0      0\n",
       "1      0\n",
       "2      0\n",
       "3      0\n",
       "4      0\n",
       "      ..\n",
       "395    1\n",
       "396    1\n",
       "397    1\n",
       "398    0\n",
       "399    1\n",
       "Name: Purchased, Length: 400, dtype: int64"
      ]
     },
     "execution_count": 5,
     "metadata": {},
     "output_type": "execute_result"
    }
   ],
   "source": [
    "y = df.iloc[:, -1]\n",
    "y"
   ]
  },
  {
   "cell_type": "code",
   "execution_count": 6,
   "id": "f3686030",
   "metadata": {
    "execution": {
     "iopub.execute_input": "2025-08-15T14:54:47.806835Z",
     "iopub.status.busy": "2025-08-15T14:54:47.806543Z",
     "iopub.status.idle": "2025-08-15T14:54:49.715856Z",
     "shell.execute_reply": "2025-08-15T14:54:49.714575Z"
    },
    "papermill": {
     "duration": 1.917316,
     "end_time": "2025-08-15T14:54:49.717944",
     "exception": false,
     "start_time": "2025-08-15T14:54:47.800628",
     "status": "completed"
    },
    "tags": []
   },
   "outputs": [],
   "source": [
    "from sklearn.model_selection import train_test_split\n",
    "X_train, X_test, y_train, y_test = train_test_split(X, y, test_size=0.2, random_state=42)"
   ]
  },
  {
   "cell_type": "code",
   "execution_count": 7,
   "id": "af433cbb",
   "metadata": {
    "execution": {
     "iopub.execute_input": "2025-08-15T14:54:49.736487Z",
     "iopub.status.busy": "2025-08-15T14:54:49.736041Z",
     "iopub.status.idle": "2025-08-15T14:55:08.053276Z",
     "shell.execute_reply": "2025-08-15T14:55:08.052236Z"
    },
    "papermill": {
     "duration": 18.327912,
     "end_time": "2025-08-15T14:55:08.054933",
     "exception": false,
     "start_time": "2025-08-15T14:54:49.727021",
     "status": "completed"
    },
    "tags": []
   },
   "outputs": [
    {
     "name": "stderr",
     "output_type": "stream",
     "text": [
      "2025-08-15 14:54:51.966566: E external/local_xla/xla/stream_executor/cuda/cuda_fft.cc:477] Unable to register cuFFT factory: Attempting to register factory for plugin cuFFT when one has already been registered\n",
      "WARNING: All log messages before absl::InitializeLog() is called are written to STDERR\n",
      "E0000 00:00:1755269692.261004      13 cuda_dnn.cc:8310] Unable to register cuDNN factory: Attempting to register factory for plugin cuDNN when one has already been registered\n",
      "E0000 00:00:1755269692.352439      13 cuda_blas.cc:1418] Unable to register cuBLAS factory: Attempting to register factory for plugin cuBLAS when one has already been registered\n"
     ]
    }
   ],
   "source": [
    "import tensorflow\n",
    "from tensorflow import keras\n",
    "from keras.layers import Dense\n",
    "from keras import Sequential"
   ]
  },
  {
   "cell_type": "code",
   "execution_count": 8,
   "id": "16a599b1",
   "metadata": {
    "execution": {
     "iopub.execute_input": "2025-08-15T14:55:08.067654Z",
     "iopub.status.busy": "2025-08-15T14:55:08.066669Z",
     "iopub.status.idle": "2025-08-15T14:55:08.073396Z",
     "shell.execute_reply": "2025-08-15T14:55:08.072359Z"
    },
    "papermill": {
     "duration": 0.013988,
     "end_time": "2025-08-15T14:55:08.074714",
     "exception": false,
     "start_time": "2025-08-15T14:55:08.060726",
     "status": "completed"
    },
    "tags": []
   },
   "outputs": [],
   "source": [
    "model = Sequential()"
   ]
  },
  {
   "cell_type": "code",
   "execution_count": 9,
   "id": "7db6b896",
   "metadata": {
    "execution": {
     "iopub.execute_input": "2025-08-15T14:55:08.086065Z",
     "iopub.status.busy": "2025-08-15T14:55:08.085657Z",
     "iopub.status.idle": "2025-08-15T14:55:08.175194Z",
     "shell.execute_reply": "2025-08-15T14:55:08.174224Z"
    },
    "papermill": {
     "duration": 0.096813,
     "end_time": "2025-08-15T14:55:08.176716",
     "exception": false,
     "start_time": "2025-08-15T14:55:08.079903",
     "status": "completed"
    },
    "tags": []
   },
   "outputs": [
    {
     "name": "stderr",
     "output_type": "stream",
     "text": [
      "/usr/local/lib/python3.11/dist-packages/keras/src/layers/core/dense.py:87: UserWarning: Do not pass an `input_shape`/`input_dim` argument to a layer. When using Sequential models, prefer using an `Input(shape)` object as the first layer in the model instead.\n",
      "  super().__init__(activity_regularizer=activity_regularizer, **kwargs)\n",
      "2025-08-15 14:55:08.095711: E external/local_xla/xla/stream_executor/cuda/cuda_driver.cc:152] failed call to cuInit: INTERNAL: CUDA error: Failed call to cuInit: UNKNOWN ERROR (303)\n"
     ]
    }
   ],
   "source": [
    "model.add(Dense(128, activation='relu', input_dim=2))\n",
    "model.add(Dense(1, activation='sigmoid'))"
   ]
  },
  {
   "cell_type": "code",
   "execution_count": 10,
   "id": "d321db54",
   "metadata": {
    "execution": {
     "iopub.execute_input": "2025-08-15T14:55:08.188323Z",
     "iopub.status.busy": "2025-08-15T14:55:08.187959Z",
     "iopub.status.idle": "2025-08-15T14:55:08.205765Z",
     "shell.execute_reply": "2025-08-15T14:55:08.204802Z"
    },
    "papermill": {
     "duration": 0.025448,
     "end_time": "2025-08-15T14:55:08.207312",
     "exception": false,
     "start_time": "2025-08-15T14:55:08.181864",
     "status": "completed"
    },
    "tags": []
   },
   "outputs": [
    {
     "data": {
      "text/html": [
       "<pre style=\"white-space:pre;overflow-x:auto;line-height:normal;font-family:Menlo,'DejaVu Sans Mono',consolas,'Courier New',monospace\"><span style=\"font-weight: bold\">Model: \"sequential\"</span>\n",
       "</pre>\n"
      ],
      "text/plain": [
       "\u001b[1mModel: \"sequential\"\u001b[0m\n"
      ]
     },
     "metadata": {},
     "output_type": "display_data"
    },
    {
     "data": {
      "text/html": [
       "<pre style=\"white-space:pre;overflow-x:auto;line-height:normal;font-family:Menlo,'DejaVu Sans Mono',consolas,'Courier New',monospace\">┏━━━━━━━━━━━━━━━━━━━━━━━━━━━━━━━━━┳━━━━━━━━━━━━━━━━━━━━━━━━┳━━━━━━━━━━━━━━━┓\n",
       "┃<span style=\"font-weight: bold\"> Layer (type)                    </span>┃<span style=\"font-weight: bold\"> Output Shape           </span>┃<span style=\"font-weight: bold\">       Param # </span>┃\n",
       "┡━━━━━━━━━━━━━━━━━━━━━━━━━━━━━━━━━╇━━━━━━━━━━━━━━━━━━━━━━━━╇━━━━━━━━━━━━━━━┩\n",
       "│ dense (<span style=\"color: #0087ff; text-decoration-color: #0087ff\">Dense</span>)                   │ (<span style=\"color: #00d7ff; text-decoration-color: #00d7ff\">None</span>, <span style=\"color: #00af00; text-decoration-color: #00af00\">128</span>)            │           <span style=\"color: #00af00; text-decoration-color: #00af00\">384</span> │\n",
       "├─────────────────────────────────┼────────────────────────┼───────────────┤\n",
       "│ dense_1 (<span style=\"color: #0087ff; text-decoration-color: #0087ff\">Dense</span>)                 │ (<span style=\"color: #00d7ff; text-decoration-color: #00d7ff\">None</span>, <span style=\"color: #00af00; text-decoration-color: #00af00\">1</span>)              │           <span style=\"color: #00af00; text-decoration-color: #00af00\">129</span> │\n",
       "└─────────────────────────────────┴────────────────────────┴───────────────┘\n",
       "</pre>\n"
      ],
      "text/plain": [
       "┏━━━━━━━━━━━━━━━━━━━━━━━━━━━━━━━━━┳━━━━━━━━━━━━━━━━━━━━━━━━┳━━━━━━━━━━━━━━━┓\n",
       "┃\u001b[1m \u001b[0m\u001b[1mLayer (type)                   \u001b[0m\u001b[1m \u001b[0m┃\u001b[1m \u001b[0m\u001b[1mOutput Shape          \u001b[0m\u001b[1m \u001b[0m┃\u001b[1m \u001b[0m\u001b[1m      Param #\u001b[0m\u001b[1m \u001b[0m┃\n",
       "┡━━━━━━━━━━━━━━━━━━━━━━━━━━━━━━━━━╇━━━━━━━━━━━━━━━━━━━━━━━━╇━━━━━━━━━━━━━━━┩\n",
       "│ dense (\u001b[38;5;33mDense\u001b[0m)                   │ (\u001b[38;5;45mNone\u001b[0m, \u001b[38;5;34m128\u001b[0m)            │           \u001b[38;5;34m384\u001b[0m │\n",
       "├─────────────────────────────────┼────────────────────────┼───────────────┤\n",
       "│ dense_1 (\u001b[38;5;33mDense\u001b[0m)                 │ (\u001b[38;5;45mNone\u001b[0m, \u001b[38;5;34m1\u001b[0m)              │           \u001b[38;5;34m129\u001b[0m │\n",
       "└─────────────────────────────────┴────────────────────────┴───────────────┘\n"
      ]
     },
     "metadata": {},
     "output_type": "display_data"
    },
    {
     "data": {
      "text/html": [
       "<pre style=\"white-space:pre;overflow-x:auto;line-height:normal;font-family:Menlo,'DejaVu Sans Mono',consolas,'Courier New',monospace\"><span style=\"font-weight: bold\"> Total params: </span><span style=\"color: #00af00; text-decoration-color: #00af00\">513</span> (2.00 KB)\n",
       "</pre>\n"
      ],
      "text/plain": [
       "\u001b[1m Total params: \u001b[0m\u001b[38;5;34m513\u001b[0m (2.00 KB)\n"
      ]
     },
     "metadata": {},
     "output_type": "display_data"
    },
    {
     "data": {
      "text/html": [
       "<pre style=\"white-space:pre;overflow-x:auto;line-height:normal;font-family:Menlo,'DejaVu Sans Mono',consolas,'Courier New',monospace\"><span style=\"font-weight: bold\"> Trainable params: </span><span style=\"color: #00af00; text-decoration-color: #00af00\">513</span> (2.00 KB)\n",
       "</pre>\n"
      ],
      "text/plain": [
       "\u001b[1m Trainable params: \u001b[0m\u001b[38;5;34m513\u001b[0m (2.00 KB)\n"
      ]
     },
     "metadata": {},
     "output_type": "display_data"
    },
    {
     "data": {
      "text/html": [
       "<pre style=\"white-space:pre;overflow-x:auto;line-height:normal;font-family:Menlo,'DejaVu Sans Mono',consolas,'Courier New',monospace\"><span style=\"font-weight: bold\"> Non-trainable params: </span><span style=\"color: #00af00; text-decoration-color: #00af00\">0</span> (0.00 B)\n",
       "</pre>\n"
      ],
      "text/plain": [
       "\u001b[1m Non-trainable params: \u001b[0m\u001b[38;5;34m0\u001b[0m (0.00 B)\n"
      ]
     },
     "metadata": {},
     "output_type": "display_data"
    }
   ],
   "source": [
    "model.summary()"
   ]
  },
  {
   "cell_type": "code",
   "execution_count": 11,
   "id": "091fd420",
   "metadata": {
    "execution": {
     "iopub.execute_input": "2025-08-15T14:55:08.220528Z",
     "iopub.status.busy": "2025-08-15T14:55:08.220178Z",
     "iopub.status.idle": "2025-08-15T14:55:08.237450Z",
     "shell.execute_reply": "2025-08-15T14:55:08.236506Z"
    },
    "papermill": {
     "duration": 0.026052,
     "end_time": "2025-08-15T14:55:08.239401",
     "exception": false,
     "start_time": "2025-08-15T14:55:08.213349",
     "status": "completed"
    },
    "tags": []
   },
   "outputs": [],
   "source": [
    "model.compile(loss='binary_crossentropy', optimizer='adam', metrics=['accuracy'])"
   ]
  },
  {
   "cell_type": "code",
   "execution_count": 12,
   "id": "5f3128c3",
   "metadata": {
    "execution": {
     "iopub.execute_input": "2025-08-15T14:55:08.252688Z",
     "iopub.status.busy": "2025-08-15T14:55:08.251736Z",
     "iopub.status.idle": "2025-08-15T14:55:22.032367Z",
     "shell.execute_reply": "2025-08-15T14:55:22.031344Z"
    },
    "papermill": {
     "duration": 13.78935,
     "end_time": "2025-08-15T14:55:22.034537",
     "exception": false,
     "start_time": "2025-08-15T14:55:08.245187",
     "status": "completed"
    },
    "tags": []
   },
   "outputs": [
    {
     "name": "stdout",
     "output_type": "stream",
     "text": [
      "Epoch 1/100\n",
      "\u001b[1m10/10\u001b[0m \u001b[32m━━━━━━━━━━━━━━━━━━━━\u001b[0m\u001b[37m\u001b[0m \u001b[1m2s\u001b[0m 39ms/step - accuracy: 0.4059 - loss: 2185.3838 - val_accuracy: 0.6500 - val_loss: 794.8270\n",
      "Epoch 2/100\n",
      "\u001b[1m10/10\u001b[0m \u001b[32m━━━━━━━━━━━━━━━━━━━━\u001b[0m\u001b[37m\u001b[0m \u001b[1m0s\u001b[0m 10ms/step - accuracy: 0.6447 - loss: 545.9842 - val_accuracy: 0.3500 - val_loss: 226.4398\n",
      "Epoch 3/100\n",
      "\u001b[1m10/10\u001b[0m \u001b[32m━━━━━━━━━━━━━━━━━━━━\u001b[0m\u001b[37m\u001b[0m \u001b[1m0s\u001b[0m 10ms/step - accuracy: 0.4444 - loss: 180.6010 - val_accuracy: 0.3500 - val_loss: 232.4063\n",
      "Epoch 4/100\n",
      "\u001b[1m10/10\u001b[0m \u001b[32m━━━━━━━━━━━━━━━━━━━━\u001b[0m\u001b[37m\u001b[0m \u001b[1m0s\u001b[0m 10ms/step - accuracy: 0.4586 - loss: 154.6274 - val_accuracy: 0.3500 - val_loss: 44.4531\n",
      "Epoch 5/100\n",
      "\u001b[1m10/10\u001b[0m \u001b[32m━━━━━━━━━━━━━━━━━━━━\u001b[0m\u001b[37m\u001b[0m \u001b[1m0s\u001b[0m 10ms/step - accuracy: 0.5680 - loss: 34.4088 - val_accuracy: 0.3500 - val_loss: 72.0438\n",
      "Epoch 6/100\n",
      "\u001b[1m10/10\u001b[0m \u001b[32m━━━━━━━━━━━━━━━━━━━━\u001b[0m\u001b[37m\u001b[0m \u001b[1m0s\u001b[0m 10ms/step - accuracy: 0.4364 - loss: 86.7241 - val_accuracy: 0.6500 - val_loss: 87.1430\n",
      "Epoch 7/100\n",
      "\u001b[1m10/10\u001b[0m \u001b[32m━━━━━━━━━━━━━━━━━━━━\u001b[0m\u001b[37m\u001b[0m \u001b[1m0s\u001b[0m 10ms/step - accuracy: 0.5879 - loss: 55.6564 - val_accuracy: 0.3500 - val_loss: 42.7184\n",
      "Epoch 8/100\n",
      "\u001b[1m10/10\u001b[0m \u001b[32m━━━━━━━━━━━━━━━━━━━━\u001b[0m\u001b[37m\u001b[0m \u001b[1m0s\u001b[0m 10ms/step - accuracy: 0.5034 - loss: 64.8843 - val_accuracy: 0.6500 - val_loss: 60.4570\n",
      "Epoch 9/100\n",
      "\u001b[1m10/10\u001b[0m \u001b[32m━━━━━━━━━━━━━━━━━━━━\u001b[0m\u001b[37m\u001b[0m \u001b[1m0s\u001b[0m 10ms/step - accuracy: 0.5525 - loss: 46.3712 - val_accuracy: 0.6500 - val_loss: 35.4359\n",
      "Epoch 10/100\n",
      "\u001b[1m10/10\u001b[0m \u001b[32m━━━━━━━━━━━━━━━━━━━━\u001b[0m\u001b[37m\u001b[0m \u001b[1m0s\u001b[0m 10ms/step - accuracy: 0.6251 - loss: 47.2986 - val_accuracy: 0.3500 - val_loss: 73.3335\n",
      "Epoch 11/100\n",
      "\u001b[1m10/10\u001b[0m \u001b[32m━━━━━━━━━━━━━━━━━━━━\u001b[0m\u001b[37m\u001b[0m \u001b[1m0s\u001b[0m 10ms/step - accuracy: 0.4233 - loss: 73.9497 - val_accuracy: 0.6500 - val_loss: 29.9317\n",
      "Epoch 12/100\n",
      "\u001b[1m10/10\u001b[0m \u001b[32m━━━━━━━━━━━━━━━━━━━━\u001b[0m\u001b[37m\u001b[0m \u001b[1m0s\u001b[0m 10ms/step - accuracy: 0.5369 - loss: 59.6941 - val_accuracy: 0.6500 - val_loss: 75.6281\n",
      "Epoch 13/100\n",
      "\u001b[1m10/10\u001b[0m \u001b[32m━━━━━━━━━━━━━━━━━━━━\u001b[0m\u001b[37m\u001b[0m \u001b[1m0s\u001b[0m 10ms/step - accuracy: 0.5623 - loss: 66.0463 - val_accuracy: 0.3500 - val_loss: 43.0014\n",
      "Epoch 14/100\n",
      "\u001b[1m10/10\u001b[0m \u001b[32m━━━━━━━━━━━━━━━━━━━━\u001b[0m\u001b[37m\u001b[0m \u001b[1m0s\u001b[0m 10ms/step - accuracy: 0.5297 - loss: 35.7414 - val_accuracy: 0.3500 - val_loss: 32.3530\n",
      "Epoch 15/100\n",
      "\u001b[1m10/10\u001b[0m \u001b[32m━━━━━━━━━━━━━━━━━━━━\u001b[0m\u001b[37m\u001b[0m \u001b[1m0s\u001b[0m 10ms/step - accuracy: 0.4348 - loss: 25.3168 - val_accuracy: 0.6500 - val_loss: 87.0112\n",
      "Epoch 16/100\n",
      "\u001b[1m10/10\u001b[0m \u001b[32m━━━━━━━━━━━━━━━━━━━━\u001b[0m\u001b[37m\u001b[0m \u001b[1m0s\u001b[0m 10ms/step - accuracy: 0.5847 - loss: 92.5776 - val_accuracy: 0.3500 - val_loss: 62.0955\n",
      "Epoch 17/100\n",
      "\u001b[1m10/10\u001b[0m \u001b[32m━━━━━━━━━━━━━━━━━━━━\u001b[0m\u001b[37m\u001b[0m \u001b[1m0s\u001b[0m 10ms/step - accuracy: 0.4420 - loss: 72.2068 - val_accuracy: 0.3500 - val_loss: 19.4217\n",
      "Epoch 18/100\n",
      "\u001b[1m10/10\u001b[0m \u001b[32m━━━━━━━━━━━━━━━━━━━━\u001b[0m\u001b[37m\u001b[0m \u001b[1m0s\u001b[0m 9ms/step - accuracy: 0.4642 - loss: 96.0658 - val_accuracy: 0.6500 - val_loss: 106.7116\n",
      "Epoch 19/100\n",
      "\u001b[1m10/10\u001b[0m \u001b[32m━━━━━━━━━━━━━━━━━━━━\u001b[0m\u001b[37m\u001b[0m \u001b[1m0s\u001b[0m 10ms/step - accuracy: 0.5213 - loss: 61.1978 - val_accuracy: 0.6500 - val_loss: 35.9019\n",
      "Epoch 20/100\n",
      "\u001b[1m10/10\u001b[0m \u001b[32m━━━━━━━━━━━━━━━━━━━━\u001b[0m\u001b[37m\u001b[0m \u001b[1m0s\u001b[0m 10ms/step - accuracy: 0.5246 - loss: 44.6995 - val_accuracy: 0.6500 - val_loss: 47.2074\n",
      "Epoch 21/100\n",
      "\u001b[1m10/10\u001b[0m \u001b[32m━━━━━━━━━━━━━━━━━━━━\u001b[0m\u001b[37m\u001b[0m \u001b[1m0s\u001b[0m 10ms/step - accuracy: 0.6467 - loss: 47.4422 - val_accuracy: 0.3500 - val_loss: 102.2011\n",
      "Epoch 22/100\n",
      "\u001b[1m10/10\u001b[0m \u001b[32m━━━━━━━━━━━━━━━━━━━━\u001b[0m\u001b[37m\u001b[0m \u001b[1m0s\u001b[0m 10ms/step - accuracy: 0.4111 - loss: 120.9659 - val_accuracy: 0.3500 - val_loss: 111.3447\n",
      "Epoch 23/100\n",
      "\u001b[1m10/10\u001b[0m \u001b[32m━━━━━━━━━━━━━━━━━━━━\u001b[0m\u001b[37m\u001b[0m \u001b[1m0s\u001b[0m 10ms/step - accuracy: 0.5276 - loss: 96.5007 - val_accuracy: 0.6500 - val_loss: 21.3619\n",
      "Epoch 24/100\n",
      "\u001b[1m10/10\u001b[0m \u001b[32m━━━━━━━━━━━━━━━━━━━━\u001b[0m\u001b[37m\u001b[0m \u001b[1m0s\u001b[0m 10ms/step - accuracy: 0.5867 - loss: 28.5710 - val_accuracy: 0.6500 - val_loss: 52.5364\n",
      "Epoch 25/100\n",
      "\u001b[1m10/10\u001b[0m \u001b[32m━━━━━━━━━━━━━━━━━━━━\u001b[0m\u001b[37m\u001b[0m \u001b[1m0s\u001b[0m 10ms/step - accuracy: 0.4994 - loss: 63.4053 - val_accuracy: 0.3375 - val_loss: 14.1027\n",
      "Epoch 26/100\n",
      "\u001b[1m10/10\u001b[0m \u001b[32m━━━━━━━━━━━━━━━━━━━━\u001b[0m\u001b[37m\u001b[0m \u001b[1m0s\u001b[0m 10ms/step - accuracy: 0.5814 - loss: 67.8763 - val_accuracy: 0.6500 - val_loss: 45.9153\n",
      "Epoch 27/100\n",
      "\u001b[1m10/10\u001b[0m \u001b[32m━━━━━━━━━━━━━━━━━━━━\u001b[0m\u001b[37m\u001b[0m \u001b[1m0s\u001b[0m 10ms/step - accuracy: 0.6470 - loss: 60.5191 - val_accuracy: 0.6500 - val_loss: 143.4016\n",
      "Epoch 28/100\n",
      "\u001b[1m10/10\u001b[0m \u001b[32m━━━━━━━━━━━━━━━━━━━━\u001b[0m\u001b[37m\u001b[0m \u001b[1m0s\u001b[0m 9ms/step - accuracy: 0.5691 - loss: 129.6973 - val_accuracy: 0.6500 - val_loss: 124.2908\n",
      "Epoch 29/100\n",
      "\u001b[1m10/10\u001b[0m \u001b[32m━━━━━━━━━━━━━━━━━━━━\u001b[0m\u001b[37m\u001b[0m \u001b[1m0s\u001b[0m 10ms/step - accuracy: 0.5645 - loss: 117.1315 - val_accuracy: 0.6500 - val_loss: 104.9607\n",
      "Epoch 30/100\n",
      "\u001b[1m10/10\u001b[0m \u001b[32m━━━━━━━━━━━━━━━━━━━━\u001b[0m\u001b[37m\u001b[0m \u001b[1m0s\u001b[0m 10ms/step - accuracy: 0.5591 - loss: 112.5913 - val_accuracy: 0.6500 - val_loss: 169.1219\n",
      "Epoch 31/100\n",
      "\u001b[1m10/10\u001b[0m \u001b[32m━━━━━━━━━━━━━━━━━━━━\u001b[0m\u001b[37m\u001b[0m \u001b[1m0s\u001b[0m 9ms/step - accuracy: 0.5373 - loss: 111.8878 - val_accuracy: 0.3500 - val_loss: 21.7969\n",
      "Epoch 32/100\n",
      "\u001b[1m10/10\u001b[0m \u001b[32m━━━━━━━━━━━━━━━━━━━━\u001b[0m\u001b[37m\u001b[0m \u001b[1m0s\u001b[0m 10ms/step - accuracy: 0.5134 - loss: 15.4184 - val_accuracy: 0.3500 - val_loss: 19.4287\n",
      "Epoch 33/100\n",
      "\u001b[1m10/10\u001b[0m \u001b[32m━━━━━━━━━━━━━━━━━━━━\u001b[0m\u001b[37m\u001b[0m \u001b[1m0s\u001b[0m 10ms/step - accuracy: 0.4336 - loss: 25.1150 - val_accuracy: 0.2625 - val_loss: 5.7624\n",
      "Epoch 34/100\n",
      "\u001b[1m10/10\u001b[0m \u001b[32m━━━━━━━━━━━━━━━━━━━━\u001b[0m\u001b[37m\u001b[0m \u001b[1m0s\u001b[0m 10ms/step - accuracy: 0.4279 - loss: 70.7455 - val_accuracy: 0.6500 - val_loss: 137.3180\n",
      "Epoch 35/100\n",
      "\u001b[1m10/10\u001b[0m \u001b[32m━━━━━━━━━━━━━━━━━━━━\u001b[0m\u001b[37m\u001b[0m \u001b[1m0s\u001b[0m 10ms/step - accuracy: 0.5707 - loss: 76.8543 - val_accuracy: 0.3500 - val_loss: 67.0612\n",
      "Epoch 36/100\n",
      "\u001b[1m10/10\u001b[0m \u001b[32m━━━━━━━━━━━━━━━━━━━━\u001b[0m\u001b[37m\u001b[0m \u001b[1m0s\u001b[0m 10ms/step - accuracy: 0.5249 - loss: 60.0137 - val_accuracy: 0.3500 - val_loss: 29.8606\n",
      "Epoch 37/100\n",
      "\u001b[1m10/10\u001b[0m \u001b[32m━━━━━━━━━━━━━━━━━━━━\u001b[0m\u001b[37m\u001b[0m \u001b[1m0s\u001b[0m 10ms/step - accuracy: 0.4669 - loss: 31.4384 - val_accuracy: 0.3500 - val_loss: 67.3613\n",
      "Epoch 38/100\n",
      "\u001b[1m10/10\u001b[0m \u001b[32m━━━━━━━━━━━━━━━━━━━━\u001b[0m\u001b[37m\u001b[0m \u001b[1m0s\u001b[0m 10ms/step - accuracy: 0.5692 - loss: 46.8982 - val_accuracy: 0.6500 - val_loss: 2.7985\n",
      "Epoch 39/100\n",
      "\u001b[1m10/10\u001b[0m \u001b[32m━━━━━━━━━━━━━━━━━━━━\u001b[0m\u001b[37m\u001b[0m \u001b[1m0s\u001b[0m 10ms/step - accuracy: 0.4697 - loss: 84.9606 - val_accuracy: 0.3500 - val_loss: 105.3325\n",
      "Epoch 40/100\n",
      "\u001b[1m10/10\u001b[0m \u001b[32m━━━━━━━━━━━━━━━━━━━━\u001b[0m\u001b[37m\u001b[0m \u001b[1m0s\u001b[0m 10ms/step - accuracy: 0.4110 - loss: 111.5940 - val_accuracy: 0.3500 - val_loss: 93.9549\n",
      "Epoch 41/100\n",
      "\u001b[1m10/10\u001b[0m \u001b[32m━━━━━━━━━━━━━━━━━━━━\u001b[0m\u001b[37m\u001b[0m \u001b[1m0s\u001b[0m 10ms/step - accuracy: 0.4822 - loss: 51.6946 - val_accuracy: 0.3500 - val_loss: 24.8084\n",
      "Epoch 42/100\n",
      "\u001b[1m10/10\u001b[0m \u001b[32m━━━━━━━━━━━━━━━━━━━━\u001b[0m\u001b[37m\u001b[0m \u001b[1m0s\u001b[0m 9ms/step - accuracy: 0.4975 - loss: 43.1330 - val_accuracy: 0.2625 - val_loss: 6.8611\n",
      "Epoch 43/100\n",
      "\u001b[1m10/10\u001b[0m \u001b[32m━━━━━━━━━━━━━━━━━━━━\u001b[0m\u001b[37m\u001b[0m \u001b[1m0s\u001b[0m 10ms/step - accuracy: 0.4493 - loss: 26.8076 - val_accuracy: 0.3500 - val_loss: 42.9902\n",
      "Epoch 44/100\n",
      "\u001b[1m10/10\u001b[0m \u001b[32m━━━━━━━━━━━━━━━━━━━━\u001b[0m\u001b[37m\u001b[0m \u001b[1m0s\u001b[0m 9ms/step - accuracy: 0.5395 - loss: 97.0553 - val_accuracy: 0.6500 - val_loss: 23.7807\n",
      "Epoch 45/100\n",
      "\u001b[1m10/10\u001b[0m \u001b[32m━━━━━━━━━━━━━━━━━━━━\u001b[0m\u001b[37m\u001b[0m \u001b[1m0s\u001b[0m 9ms/step - accuracy: 0.4825 - loss: 26.9857 - val_accuracy: 0.6500 - val_loss: 66.2814\n",
      "Epoch 46/100\n",
      "\u001b[1m10/10\u001b[0m \u001b[32m━━━━━━━━━━━━━━━━━━━━\u001b[0m\u001b[37m\u001b[0m \u001b[1m0s\u001b[0m 9ms/step - accuracy: 0.5699 - loss: 54.8600 - val_accuracy: 0.3500 - val_loss: 130.6189\n",
      "Epoch 47/100\n",
      "\u001b[1m10/10\u001b[0m \u001b[32m━━━━━━━━━━━━━━━━━━━━\u001b[0m\u001b[37m\u001b[0m \u001b[1m0s\u001b[0m 9ms/step - accuracy: 0.4854 - loss: 92.9155 - val_accuracy: 0.6500 - val_loss: 43.6463\n",
      "Epoch 48/100\n",
      "\u001b[1m10/10\u001b[0m \u001b[32m━━━━━━━━━━━━━━━━━━━━\u001b[0m\u001b[37m\u001b[0m \u001b[1m0s\u001b[0m 9ms/step - accuracy: 0.6036 - loss: 47.6143 - val_accuracy: 0.6500 - val_loss: 5.4026\n",
      "Epoch 49/100\n",
      "\u001b[1m10/10\u001b[0m \u001b[32m━━━━━━━━━━━━━━━━━━━━\u001b[0m\u001b[37m\u001b[0m \u001b[1m0s\u001b[0m 10ms/step - accuracy: 0.4671 - loss: 90.5101 - val_accuracy: 0.3625 - val_loss: 3.5093\n",
      "Epoch 50/100\n",
      "\u001b[1m10/10\u001b[0m \u001b[32m━━━━━━━━━━━━━━━━━━━━\u001b[0m\u001b[37m\u001b[0m \u001b[1m0s\u001b[0m 10ms/step - accuracy: 0.4505 - loss: 74.1646 - val_accuracy: 0.3500 - val_loss: 174.6645\n",
      "Epoch 51/100\n",
      "\u001b[1m10/10\u001b[0m \u001b[32m━━━━━━━━━━━━━━━━━━━━\u001b[0m\u001b[37m\u001b[0m \u001b[1m0s\u001b[0m 10ms/step - accuracy: 0.4264 - loss: 97.7879 - val_accuracy: 0.6500 - val_loss: 10.9766\n",
      "Epoch 52/100\n",
      "\u001b[1m10/10\u001b[0m \u001b[32m━━━━━━━━━━━━━━━━━━━━\u001b[0m\u001b[37m\u001b[0m \u001b[1m0s\u001b[0m 10ms/step - accuracy: 0.5090 - loss: 30.7496 - val_accuracy: 0.3500 - val_loss: 49.0009\n",
      "Epoch 53/100\n",
      "\u001b[1m10/10\u001b[0m \u001b[32m━━━━━━━━━━━━━━━━━━━━\u001b[0m\u001b[37m\u001b[0m \u001b[1m0s\u001b[0m 9ms/step - accuracy: 0.4353 - loss: 40.7148 - val_accuracy: 0.3500 - val_loss: 27.2901\n",
      "Epoch 54/100\n",
      "\u001b[1m10/10\u001b[0m \u001b[32m━━━━━━━━━━━━━━━━━━━━\u001b[0m\u001b[37m\u001b[0m \u001b[1m0s\u001b[0m 10ms/step - accuracy: 0.4757 - loss: 22.2832 - val_accuracy: 0.6500 - val_loss: 3.6850\n",
      "Epoch 55/100\n",
      "\u001b[1m10/10\u001b[0m \u001b[32m━━━━━━━━━━━━━━━━━━━━\u001b[0m\u001b[37m\u001b[0m \u001b[1m0s\u001b[0m 10ms/step - accuracy: 0.5643 - loss: 20.0537 - val_accuracy: 0.6500 - val_loss: 33.1331\n",
      "Epoch 56/100\n",
      "\u001b[1m10/10\u001b[0m \u001b[32m━━━━━━━━━━━━━━━━━━━━\u001b[0m\u001b[37m\u001b[0m \u001b[1m0s\u001b[0m 10ms/step - accuracy: 0.5175 - loss: 33.4225 - val_accuracy: 0.3500 - val_loss: 19.1430\n",
      "Epoch 57/100\n",
      "\u001b[1m10/10\u001b[0m \u001b[32m━━━━━━━━━━━━━━━━━━━━\u001b[0m\u001b[37m\u001b[0m \u001b[1m0s\u001b[0m 10ms/step - accuracy: 0.4750 - loss: 65.4395 - val_accuracy: 0.6500 - val_loss: 31.0626\n",
      "Epoch 58/100\n",
      "\u001b[1m10/10\u001b[0m \u001b[32m━━━━━━━━━━━━━━━━━━━━\u001b[0m\u001b[37m\u001b[0m \u001b[1m0s\u001b[0m 10ms/step - accuracy: 0.5764 - loss: 26.8791 - val_accuracy: 0.3125 - val_loss: 11.6572\n",
      "Epoch 59/100\n",
      "\u001b[1m10/10\u001b[0m \u001b[32m━━━━━━━━━━━━━━━━━━━━\u001b[0m\u001b[37m\u001b[0m \u001b[1m0s\u001b[0m 10ms/step - accuracy: 0.4783 - loss: 111.3983 - val_accuracy: 0.6500 - val_loss: 43.4812\n",
      "Epoch 60/100\n",
      "\u001b[1m10/10\u001b[0m \u001b[32m━━━━━━━━━━━━━━━━━━━━\u001b[0m\u001b[37m\u001b[0m \u001b[1m0s\u001b[0m 10ms/step - accuracy: 0.5945 - loss: 34.3543 - val_accuracy: 0.2750 - val_loss: 7.1697\n",
      "Epoch 61/100\n",
      "\u001b[1m10/10\u001b[0m \u001b[32m━━━━━━━━━━━━━━━━━━━━\u001b[0m\u001b[37m\u001b[0m \u001b[1m0s\u001b[0m 11ms/step - accuracy: 0.5320 - loss: 78.0782 - val_accuracy: 0.6500 - val_loss: 32.0328\n",
      "Epoch 62/100\n",
      "\u001b[1m10/10\u001b[0m \u001b[32m━━━━━━━━━━━━━━━━━━━━\u001b[0m\u001b[37m\u001b[0m \u001b[1m0s\u001b[0m 9ms/step - accuracy: 0.5426 - loss: 26.5265 - val_accuracy: 0.6500 - val_loss: 41.3140\n",
      "Epoch 63/100\n",
      "\u001b[1m10/10\u001b[0m \u001b[32m━━━━━━━━━━━━━━━━━━━━\u001b[0m\u001b[37m\u001b[0m \u001b[1m0s\u001b[0m 10ms/step - accuracy: 0.5393 - loss: 51.3141 - val_accuracy: 0.6500 - val_loss: 31.2366\n",
      "Epoch 64/100\n",
      "\u001b[1m10/10\u001b[0m \u001b[32m━━━━━━━━━━━━━━━━━━━━\u001b[0m\u001b[37m\u001b[0m \u001b[1m0s\u001b[0m 10ms/step - accuracy: 0.5284 - loss: 27.3194 - val_accuracy: 0.6500 - val_loss: 44.9442\n",
      "Epoch 65/100\n",
      "\u001b[1m10/10\u001b[0m \u001b[32m━━━━━━━━━━━━━━━━━━━━\u001b[0m\u001b[37m\u001b[0m \u001b[1m0s\u001b[0m 10ms/step - accuracy: 0.5551 - loss: 43.1470 - val_accuracy: 0.3500 - val_loss: 111.3264\n",
      "Epoch 66/100\n",
      "\u001b[1m10/10\u001b[0m \u001b[32m━━━━━━━━━━━━━━━━━━━━\u001b[0m\u001b[37m\u001b[0m \u001b[1m0s\u001b[0m 10ms/step - accuracy: 0.4541 - loss: 119.3157 - val_accuracy: 0.6500 - val_loss: 66.3604\n",
      "Epoch 67/100\n",
      "\u001b[1m10/10\u001b[0m \u001b[32m━━━━━━━━━━━━━━━━━━━━\u001b[0m\u001b[37m\u001b[0m \u001b[1m0s\u001b[0m 9ms/step - accuracy: 0.4978 - loss: 58.7835 - val_accuracy: 0.3500 - val_loss: 120.9535\n",
      "Epoch 68/100\n",
      "\u001b[1m10/10\u001b[0m \u001b[32m━━━━━━━━━━━━━━━━━━━━\u001b[0m\u001b[37m\u001b[0m \u001b[1m0s\u001b[0m 10ms/step - accuracy: 0.4732 - loss: 103.0271 - val_accuracy: 0.6500 - val_loss: 18.3791\n",
      "Epoch 69/100\n",
      "\u001b[1m10/10\u001b[0m \u001b[32m━━━━━━━━━━━━━━━━━━━━\u001b[0m\u001b[37m\u001b[0m \u001b[1m0s\u001b[0m 10ms/step - accuracy: 0.5465 - loss: 57.8565 - val_accuracy: 0.3500 - val_loss: 22.8495\n",
      "Epoch 70/100\n",
      "\u001b[1m10/10\u001b[0m \u001b[32m━━━━━━━━━━━━━━━━━━━━\u001b[0m\u001b[37m\u001b[0m \u001b[1m0s\u001b[0m 10ms/step - accuracy: 0.4311 - loss: 37.2788 - val_accuracy: 0.6500 - val_loss: 78.9097\n",
      "Epoch 71/100\n",
      "\u001b[1m10/10\u001b[0m \u001b[32m━━━━━━━━━━━━━━━━━━━━\u001b[0m\u001b[37m\u001b[0m \u001b[1m0s\u001b[0m 10ms/step - accuracy: 0.5830 - loss: 78.4869 - val_accuracy: 0.6500 - val_loss: 89.7602\n",
      "Epoch 72/100\n",
      "\u001b[1m10/10\u001b[0m \u001b[32m━━━━━━━━━━━━━━━━━━━━\u001b[0m\u001b[37m\u001b[0m \u001b[1m0s\u001b[0m 10ms/step - accuracy: 0.5271 - loss: 119.0942 - val_accuracy: 0.6500 - val_loss: 210.5273\n",
      "Epoch 73/100\n",
      "\u001b[1m10/10\u001b[0m \u001b[32m━━━━━━━━━━━━━━━━━━━━\u001b[0m\u001b[37m\u001b[0m \u001b[1m0s\u001b[0m 9ms/step - accuracy: 0.5735 - loss: 167.9081 - val_accuracy: 0.6500 - val_loss: 107.7116\n",
      "Epoch 74/100\n",
      "\u001b[1m10/10\u001b[0m \u001b[32m━━━━━━━━━━━━━━━━━━━━\u001b[0m\u001b[37m\u001b[0m \u001b[1m0s\u001b[0m 9ms/step - accuracy: 0.5821 - loss: 95.5700 - val_accuracy: 0.3500 - val_loss: 72.1441\n",
      "Epoch 75/100\n",
      "\u001b[1m10/10\u001b[0m \u001b[32m━━━━━━━━━━━━━━━━━━━━\u001b[0m\u001b[37m\u001b[0m \u001b[1m0s\u001b[0m 10ms/step - accuracy: 0.4617 - loss: 53.1113 - val_accuracy: 0.6500 - val_loss: 104.9125\n",
      "Epoch 76/100\n",
      "\u001b[1m10/10\u001b[0m \u001b[32m━━━━━━━━━━━━━━━━━━━━\u001b[0m\u001b[37m\u001b[0m \u001b[1m0s\u001b[0m 10ms/step - accuracy: 0.5946 - loss: 96.7086 - val_accuracy: 0.6500 - val_loss: 69.9340\n",
      "Epoch 77/100\n",
      "\u001b[1m10/10\u001b[0m \u001b[32m━━━━━━━━━━━━━━━━━━━━\u001b[0m\u001b[37m\u001b[0m \u001b[1m0s\u001b[0m 10ms/step - accuracy: 0.5141 - loss: 72.9588 - val_accuracy: 0.3500 - val_loss: 137.6038\n",
      "Epoch 78/100\n",
      "\u001b[1m10/10\u001b[0m \u001b[32m━━━━━━━━━━━━━━━━━━━━\u001b[0m\u001b[37m\u001b[0m \u001b[1m0s\u001b[0m 10ms/step - accuracy: 0.4869 - loss: 89.2693 - val_accuracy: 0.3500 - val_loss: 71.9004\n",
      "Epoch 79/100\n",
      "\u001b[1m10/10\u001b[0m \u001b[32m━━━━━━━━━━━━━━━━━━━━\u001b[0m\u001b[37m\u001b[0m \u001b[1m0s\u001b[0m 9ms/step - accuracy: 0.5550 - loss: 57.9611 - val_accuracy: 0.6500 - val_loss: 90.3781\n",
      "Epoch 80/100\n",
      "\u001b[1m10/10\u001b[0m \u001b[32m━━━━━━━━━━━━━━━━━━━━\u001b[0m\u001b[37m\u001b[0m \u001b[1m0s\u001b[0m 10ms/step - accuracy: 0.4760 - loss: 116.5329 - val_accuracy: 0.6500 - val_loss: 96.2964\n",
      "Epoch 81/100\n",
      "\u001b[1m10/10\u001b[0m \u001b[32m━━━━━━━━━━━━━━━━━━━━\u001b[0m\u001b[37m\u001b[0m \u001b[1m0s\u001b[0m 9ms/step - accuracy: 0.5219 - loss: 112.2295 - val_accuracy: 0.6500 - val_loss: 185.6237\n",
      "Epoch 82/100\n",
      "\u001b[1m10/10\u001b[0m \u001b[32m━━━━━━━━━━━━━━━━━━━━\u001b[0m\u001b[37m\u001b[0m \u001b[1m0s\u001b[0m 9ms/step - accuracy: 0.5813 - loss: 115.4209 - val_accuracy: 0.6500 - val_loss: 96.2048\n",
      "Epoch 83/100\n",
      "\u001b[1m10/10\u001b[0m \u001b[32m━━━━━━━━━━━━━━━━━━━━\u001b[0m\u001b[37m\u001b[0m \u001b[1m0s\u001b[0m 10ms/step - accuracy: 0.5266 - loss: 69.1492 - val_accuracy: 0.3750 - val_loss: 3.0188\n",
      "Epoch 84/100\n",
      "\u001b[1m10/10\u001b[0m \u001b[32m━━━━━━━━━━━━━━━━━━━━\u001b[0m\u001b[37m\u001b[0m \u001b[1m0s\u001b[0m 10ms/step - accuracy: 0.5710 - loss: 32.3509 - val_accuracy: 0.3500 - val_loss: 143.8192\n",
      "Epoch 85/100\n",
      "\u001b[1m10/10\u001b[0m \u001b[32m━━━━━━━━━━━━━━━━━━━━\u001b[0m\u001b[37m\u001b[0m \u001b[1m0s\u001b[0m 10ms/step - accuracy: 0.4377 - loss: 90.6959 - val_accuracy: 0.6500 - val_loss: 92.0463\n",
      "Epoch 86/100\n",
      "\u001b[1m10/10\u001b[0m \u001b[32m━━━━━━━━━━━━━━━━━━━━\u001b[0m\u001b[37m\u001b[0m \u001b[1m0s\u001b[0m 10ms/step - accuracy: 0.5858 - loss: 124.4046 - val_accuracy: 0.6500 - val_loss: 62.9995\n",
      "Epoch 87/100\n",
      "\u001b[1m10/10\u001b[0m \u001b[32m━━━━━━━━━━━━━━━━━━━━\u001b[0m\u001b[37m\u001b[0m \u001b[1m0s\u001b[0m 10ms/step - accuracy: 0.5476 - loss: 63.0802 - val_accuracy: 0.3375 - val_loss: 4.1514\n",
      "Epoch 88/100\n",
      "\u001b[1m10/10\u001b[0m \u001b[32m━━━━━━━━━━━━━━━━━━━━\u001b[0m\u001b[37m\u001b[0m \u001b[1m0s\u001b[0m 10ms/step - accuracy: 0.5031 - loss: 51.9044 - val_accuracy: 0.6500 - val_loss: 149.6480\n",
      "Epoch 89/100\n",
      "\u001b[1m10/10\u001b[0m \u001b[32m━━━━━━━━━━━━━━━━━━━━\u001b[0m\u001b[37m\u001b[0m \u001b[1m0s\u001b[0m 9ms/step - accuracy: 0.4987 - loss: 153.7205 - val_accuracy: 0.6500 - val_loss: 105.4005\n",
      "Epoch 90/100\n",
      "\u001b[1m10/10\u001b[0m \u001b[32m━━━━━━━━━━━━━━━━━━━━\u001b[0m\u001b[37m\u001b[0m \u001b[1m0s\u001b[0m 11ms/step - accuracy: 0.5326 - loss: 94.5100 - val_accuracy: 0.6500 - val_loss: 53.2563\n",
      "Epoch 91/100\n",
      "\u001b[1m10/10\u001b[0m \u001b[32m━━━━━━━━━━━━━━━━━━━━\u001b[0m\u001b[37m\u001b[0m \u001b[1m0s\u001b[0m 10ms/step - accuracy: 0.5000 - loss: 103.9588 - val_accuracy: 0.3500 - val_loss: 60.3636\n",
      "Epoch 92/100\n",
      "\u001b[1m10/10\u001b[0m \u001b[32m━━━━━━━━━━━━━━━━━━━━\u001b[0m\u001b[37m\u001b[0m \u001b[1m0s\u001b[0m 14ms/step - accuracy: 0.4159 - loss: 54.1266 - val_accuracy: 0.6500 - val_loss: 72.7218\n",
      "Epoch 93/100\n",
      "\u001b[1m10/10\u001b[0m \u001b[32m━━━━━━━━━━━━━━━━━━━━\u001b[0m\u001b[37m\u001b[0m \u001b[1m0s\u001b[0m 10ms/step - accuracy: 0.5012 - loss: 77.7303 - val_accuracy: 0.3500 - val_loss: 57.2471\n",
      "Epoch 94/100\n",
      "\u001b[1m10/10\u001b[0m \u001b[32m━━━━━━━━━━━━━━━━━━━━\u001b[0m\u001b[37m\u001b[0m \u001b[1m0s\u001b[0m 12ms/step - accuracy: 0.4586 - loss: 52.9362 - val_accuracy: 0.6500 - val_loss: 98.7485\n",
      "Epoch 95/100\n",
      "\u001b[1m10/10\u001b[0m \u001b[32m━━━━━━━━━━━━━━━━━━━━\u001b[0m\u001b[37m\u001b[0m \u001b[1m0s\u001b[0m 10ms/step - accuracy: 0.5004 - loss: 64.5282 - val_accuracy: 0.3500 - val_loss: 30.4506\n",
      "Epoch 96/100\n",
      "\u001b[1m10/10\u001b[0m \u001b[32m━━━━━━━━━━━━━━━━━━━━\u001b[0m\u001b[37m\u001b[0m \u001b[1m0s\u001b[0m 10ms/step - accuracy: 0.5113 - loss: 54.8177 - val_accuracy: 0.3500 - val_loss: 37.2018\n",
      "Epoch 97/100\n",
      "\u001b[1m10/10\u001b[0m \u001b[32m━━━━━━━━━━━━━━━━━━━━\u001b[0m\u001b[37m\u001b[0m \u001b[1m0s\u001b[0m 11ms/step - accuracy: 0.5003 - loss: 29.0404 - val_accuracy: 0.6500 - val_loss: 20.5030\n",
      "Epoch 98/100\n",
      "\u001b[1m10/10\u001b[0m \u001b[32m━━━━━━━━━━━━━━━━━━━━\u001b[0m\u001b[37m\u001b[0m \u001b[1m0s\u001b[0m 9ms/step - accuracy: 0.5614 - loss: 21.7191 - val_accuracy: 0.3500 - val_loss: 91.9332\n",
      "Epoch 99/100\n",
      "\u001b[1m10/10\u001b[0m \u001b[32m━━━━━━━━━━━━━━━━━━━━\u001b[0m\u001b[37m\u001b[0m \u001b[1m0s\u001b[0m 9ms/step - accuracy: 0.4540 - loss: 66.6361 - val_accuracy: 0.3500 - val_loss: 24.3345\n",
      "Epoch 100/100\n",
      "\u001b[1m10/10\u001b[0m \u001b[32m━━━━━━━━━━━━━━━━━━━━\u001b[0m\u001b[37m\u001b[0m \u001b[1m0s\u001b[0m 11ms/step - accuracy: 0.5153 - loss: 32.5288 - val_accuracy: 0.6500 - val_loss: 51.9975\n"
     ]
    }
   ],
   "source": [
    "history = model.fit(X_train, y_train, epochs=100, validation_data=(X_test, y_test))"
   ]
  },
  {
   "cell_type": "code",
   "execution_count": 13,
   "id": "933ac412",
   "metadata": {
    "execution": {
     "iopub.execute_input": "2025-08-15T14:55:22.079337Z",
     "iopub.status.busy": "2025-08-15T14:55:22.078162Z",
     "iopub.status.idle": "2025-08-15T14:55:22.082929Z",
     "shell.execute_reply": "2025-08-15T14:55:22.082169Z"
    },
    "papermill": {
     "duration": 0.028289,
     "end_time": "2025-08-15T14:55:22.084816",
     "exception": false,
     "start_time": "2025-08-15T14:55:22.056527",
     "status": "completed"
    },
    "tags": []
   },
   "outputs": [],
   "source": [
    "import matplotlib.pyplot as plt"
   ]
  },
  {
   "cell_type": "code",
   "execution_count": 14,
   "id": "68592e90",
   "metadata": {
    "execution": {
     "iopub.execute_input": "2025-08-15T14:55:22.131910Z",
     "iopub.status.busy": "2025-08-15T14:55:22.131061Z",
     "iopub.status.idle": "2025-08-15T14:55:22.443607Z",
     "shell.execute_reply": "2025-08-15T14:55:22.442490Z"
    },
    "papermill": {
     "duration": 0.335417,
     "end_time": "2025-08-15T14:55:22.445446",
     "exception": false,
     "start_time": "2025-08-15T14:55:22.110029",
     "status": "completed"
    },
    "tags": []
   },
   "outputs": [
    {
     "data": {
      "text/plain": [
       "[<matplotlib.lines.Line2D at 0x7d79046e1c50>]"
      ]
     },
     "execution_count": 14,
     "metadata": {},
     "output_type": "execute_result"
    },
    {
     "data": {
      "image/png": "[encoded data removed]",
      "text/plain": [
       "<Figure size 640x480 with 1 Axes>"
      ]
     },
     "metadata": {},
     "output_type": "display_data"
    }
   ],
   "source": [
    "plt.plot(history.history['val_accuracy'])"
   ]
  },
  {
   "cell_type": "code",
   "execution_count": 15,
   "id": "cb3588ee",
   "metadata": {
    "execution": {
     "iopub.execute_input": "2025-08-15T14:55:22.489868Z",
     "iopub.status.busy": "2025-08-15T14:55:22.489547Z",
     "iopub.status.idle": "2025-08-15T14:55:22.494167Z",
     "shell.execute_reply": "2025-08-15T14:55:22.493172Z"
    },
    "papermill": {
     "duration": 0.028414,
     "end_time": "2025-08-15T14:55:22.495643",
     "exception": false,
     "start_time": "2025-08-15T14:55:22.467229",
     "status": "completed"
    },
    "tags": []
   },
   "outputs": [],
   "source": [
    "# this happens because our data is much diverse\n",
    "# like age is in the range of 0-100 while the salary is in thousands"
   ]
  },
  {
   "cell_type": "markdown",
   "id": "8cf15939",
   "metadata": {
    "papermill": {
     "duration": 0.020589,
     "end_time": "2025-08-15T14:55:22.537155",
     "exception": false,
     "start_time": "2025-08-15T14:55:22.516566",
     "status": "completed"
    },
    "tags": []
   },
   "source": [
    "Feature Scaling"
   ]
  },
  {
   "cell_type": "code",
   "execution_count": 16,
   "id": "ce884180",
   "metadata": {
    "execution": {
     "iopub.execute_input": "2025-08-15T14:55:22.579969Z",
     "iopub.status.busy": "2025-08-15T14:55:22.579536Z",
     "iopub.status.idle": "2025-08-15T14:55:22.584199Z",
     "shell.execute_reply": "2025-08-15T14:55:22.583324Z"
    },
    "papermill": {
     "duration": 0.027971,
     "end_time": "2025-08-15T14:55:22.585844",
     "exception": false,
     "start_time": "2025-08-15T14:55:22.557873",
     "status": "completed"
    },
    "tags": []
   },
   "outputs": [],
   "source": [
    "from sklearn.preprocessing import StandardScaler\n",
    "scaler = StandardScaler()"
   ]
  },
  {
   "cell_type": "code",
   "execution_count": 17,
   "id": "476da794",
   "metadata": {
    "execution": {
     "iopub.execute_input": "2025-08-15T14:55:22.630278Z",
     "iopub.status.busy": "2025-08-15T14:55:22.629931Z",
     "iopub.status.idle": "2025-08-15T14:55:22.645784Z",
     "shell.execute_reply": "2025-08-15T14:55:22.644707Z"
    },
    "papermill": {
     "duration": 0.041214,
     "end_time": "2025-08-15T14:55:22.647622",
     "exception": false,
     "start_time": "2025-08-15T14:55:22.606408",
     "status": "completed"
    },
    "tags": []
   },
   "outputs": [
    {
     "data": {
      "text/plain": [
       "array([[-1.06675246, -0.38634438],\n",
       "       [ 0.79753468, -1.22993871],\n",
       "       [ 0.11069205,  1.853544  ],\n",
       "       [ 0.60129393, -0.90995465],\n",
       "       [ 1.87685881, -1.28811763],\n",
       "       [-0.57615058,  1.44629156],\n",
       "       [ 0.3069328 , -0.53179168],\n",
       "       [ 0.99377543,  0.10817643],\n",
       "       [-1.16487283,  0.45724994],\n",
       "       [-1.55735433,  0.31180264],\n",
       "       [ 1.0918958 ,  0.45724994],\n",
       "       [-0.18366908, -0.47361276],\n",
       "       [ 0.20881242, -0.32816546],\n",
       "       [ 0.3069328 ,  0.28271318],\n",
       "       [-1.16487283, -1.57901222],\n",
       "       [ 0.11069205,  0.25362372],\n",
       "       [ 2.07309956,  1.73718616],\n",
       "       [ 0.40505317, -0.18271817],\n",
       "       [ 1.4843773 ,  2.11534913],\n",
       "       [-0.37990983,  1.21357589],\n",
       "       [ 1.87685881,  1.50447048],\n",
       "       [ 0.11069205,  0.02090805],\n",
       "       [ 0.89565505, -1.31720709],\n",
       "       [-1.36111358, -1.49174384],\n",
       "       [-0.18366908, -0.5899706 ],\n",
       "       [-0.57615058,  2.31897535],\n",
       "       [ 0.99377543, -1.20084925],\n",
       "       [-0.77239133,  1.06812859],\n",
       "       [ 2.17121993, -1.05540195],\n",
       "       [ 0.01257167, -0.26998655],\n",
       "       [-0.4780302 , -1.14267033],\n",
       "       [ 0.11069205,  0.02090805],\n",
       "       [ 1.68061805, -0.90995465],\n",
       "       [ 1.0918958 , -0.90995465],\n",
       "       [ 0.50317355,  1.21357589],\n",
       "       [-1.06675246, -1.46265438],\n",
       "       [-1.16487283, -1.54992276],\n",
       "       [-0.0855487 ,  0.66087616],\n",
       "       [ 0.40505317, -0.47361276],\n",
       "       [-0.28178945, -0.26998655],\n",
       "       [-0.87051171,  0.13726589],\n",
       "       [ 0.01257167,  0.28271318],\n",
       "       [ 0.6994143 , -1.28811763],\n",
       "       [ 1.58249768,  1.09721805],\n",
       "       [ 0.79753468, -1.37538601],\n",
       "       [-1.45923396, -1.22993871],\n",
       "       [-0.0855487 ,  0.13726589],\n",
       "       [ 0.40505317, -0.15362871],\n",
       "       [-0.28178945,  0.02090805],\n",
       "       [ 1.28813655,  2.20261751],\n",
       "       [ 0.11069205,  0.74814454],\n",
       "       [-1.36111358,  0.54451832],\n",
       "       [ 1.97497918,  0.71905508],\n",
       "       [-1.26299321, -1.40447546],\n",
       "       [ 0.3069328 , -0.32816546],\n",
       "       [-0.96863208,  0.54451832],\n",
       "       [ 0.40505317,  0.28271318],\n",
       "       [ 0.40505317,  1.09721805],\n",
       "       [ 0.79753468,  0.74814454],\n",
       "       [ 0.89565505,  1.24266535],\n",
       "       [-0.4780302 , -1.22993871],\n",
       "       [-1.85171546, -1.31720709],\n",
       "       [ 1.0918958 ,  0.54451832],\n",
       "       [-0.67427095, -1.60810168],\n",
       "       [-0.77239133,  0.25362372],\n",
       "       [ 0.99377543,  2.05717021],\n",
       "       [-0.57615058,  1.35902318],\n",
       "       [-0.0855487 ,  0.02090805],\n",
       "       [-1.94983583,  0.45724994],\n",
       "       [ 0.40505317,  0.25362372],\n",
       "       [-1.06675246,  0.39907102],\n",
       "       [ 0.20881242, -0.15362871],\n",
       "       [ 1.87685881,  0.10817643],\n",
       "       [-1.16487283, -1.60810168],\n",
       "       [-1.16487283,  0.28271318],\n",
       "       [-0.87051171, -0.79359682],\n",
       "       [-0.4780302 ,  2.28988589],\n",
       "       [ 0.11069205, -0.82268628],\n",
       "       [ 1.58249768,  0.98086021],\n",
       "       [-0.18366908, -1.08449141],\n",
       "       [ 0.79753468, -1.11358087],\n",
       "       [ 0.20881242,  2.08625967],\n",
       "       [-0.0855487 , -0.24089709],\n",
       "       [-0.87051171,  2.26079643],\n",
       "       [-0.0855487 , -0.38634438],\n",
       "       [-0.28178945, -0.5899706 ],\n",
       "       [ 0.40505317, -0.50270222],\n",
       "       [-0.28178945, -0.93904411],\n",
       "       [ 0.3069328 , -1.17175979],\n",
       "       [ 0.20881242,  0.04999751],\n",
       "       [-1.16487283, -1.60810168],\n",
       "       [-0.67427095, -0.06636033],\n",
       "       [-0.28178945, -0.50270222],\n",
       "       [-0.28178945, -1.31720709],\n",
       "       [-0.77239133,  0.54451832],\n",
       "       [ 0.3069328 ,  0.04999751],\n",
       "       [-0.96863208,  1.53355994],\n",
       "       [ 0.79753468,  0.3408921 ],\n",
       "       [-1.55735433, -0.21180763],\n",
       "       [ 0.6994143 , -1.40447546],\n",
       "       [-0.77239133, -0.61906006],\n",
       "       [-0.37990983, -1.31720709],\n",
       "       [ 0.20881242,  0.13726589],\n",
       "       [-0.57615058,  1.35902318],\n",
       "       [-1.45923396,  0.3408921 ],\n",
       "       [-1.16487283,  0.28271318],\n",
       "       [ 0.99377543,  1.76627562],\n",
       "       [ 2.07309956,  2.11534913],\n",
       "       [-0.28178945, -0.4445233 ],\n",
       "       [-0.37990983, -0.79359682],\n",
       "       [ 0.11069205, -0.26998655],\n",
       "       [-1.06675246,  0.74814454],\n",
       "       [ 2.17121993,  0.36998156],\n",
       "       [-1.36111358, -0.4445233 ],\n",
       "       [ 1.97497918,  2.14443859],\n",
       "       [ 1.4843773 ,  0.98086021],\n",
       "       [-0.28178945,  0.25362372],\n",
       "       [-0.18366908,  0.83541291],\n",
       "       [ 1.87685881, -0.29907601],\n",
       "       [-0.0855487 ,  1.94081237],\n",
       "       [-0.4780302 , -0.79359682],\n",
       "       [ 0.3069328 ,  0.02090805],\n",
       "       [ 1.38625693, -1.43356492],\n",
       "       [ 1.38625693,  2.31897535],\n",
       "       [-0.0855487 , -0.00818141],\n",
       "       [-1.16487283,  0.39907102],\n",
       "       [-1.16487283,  0.04999751],\n",
       "       [-1.16487283, -0.53179168],\n",
       "       [ 0.3069328 , -0.29907601],\n",
       "       [-0.67427095, -0.12453925],\n",
       "       [-0.0855487 ,  2.14443859],\n",
       "       [ 0.01257167, -0.26998655],\n",
       "       [-0.67427095, -1.05540195],\n",
       "       [ 0.40505317,  0.13726589],\n",
       "       [ 0.79753468,  1.35902318],\n",
       "       [-0.18366908, -0.53179168],\n",
       "       [ 0.01257167,  0.02090805],\n",
       "       [ 1.0918958 ,  0.51542886],\n",
       "       [ 1.87685881, -1.08449141],\n",
       "       [ 0.99377543,  1.96990183],\n",
       "       [ 0.89565505, -0.5899706 ],\n",
       "       [-0.4780302 , -0.03727087],\n",
       "       [-0.0855487 ,  2.20261751],\n",
       "       [-1.75359508,  0.3408921 ],\n",
       "       [ 0.20881242, -0.67723898],\n",
       "       [-0.28178945, -1.40447546],\n",
       "       [-1.75359508, -0.99722303],\n",
       "       [ 0.6994143 , -0.7354179 ],\n",
       "       [-1.16487283, -0.79359682],\n",
       "       [ 1.97497918,  0.89359183],\n",
       "       [ 0.20881242, -0.38634438],\n",
       "       [ 0.01257167,  1.21357589],\n",
       "       [-0.0855487 ,  0.28271318],\n",
       "       [ 1.0918958 , -1.22993871],\n",
       "       [-0.18366908,  0.13726589],\n",
       "       [ 0.3069328 ,  0.04999751],\n",
       "       [-0.28178945, -0.29907601],\n",
       "       [ 0.50317355,  1.7080967 ],\n",
       "       [ 0.3069328 ,  0.4863394 ],\n",
       "       [ 0.01257167,  1.24266535],\n",
       "       [ 1.97497918, -1.37538601],\n",
       "       [-1.16487283, -1.11358087],\n",
       "       [-0.57615058, -1.5208333 ],\n",
       "       [ 0.3069328 , -0.53179168],\n",
       "       [-0.67427095, -1.5208333 ],\n",
       "       [-0.28178945,  0.51542886],\n",
       "       [ 0.99377543, -1.02631249],\n",
       "       [-1.06675246,  0.54451832],\n",
       "       [-0.28178945,  0.777234  ],\n",
       "       [ 0.40505317,  0.07908697],\n",
       "       [-1.65547471, -0.06636033],\n",
       "       [ 0.3069328 ,  0.04999751],\n",
       "       [-0.4780302 , -0.29907601],\n",
       "       [ 0.11069205,  1.853544  ],\n",
       "       [-0.96863208,  0.39907102],\n",
       "       [ 0.79753468,  0.51542886],\n",
       "       [-1.36111358, -0.35725492],\n",
       "       [-0.67427095,  1.38811264],\n",
       "       [ 1.19001618,  0.51542886],\n",
       "       [-1.75359508,  0.3408921 ],\n",
       "       [-0.57615058,  1.88263345],\n",
       "       [-1.75359508,  0.45724994],\n",
       "       [-0.28178945, -1.25902817],\n",
       "       [-0.87051171, -0.79359682],\n",
       "       [-1.65547471,  0.51542886],\n",
       "       [-0.28178945, -0.32816546],\n",
       "       [ 0.6994143 , -1.11358087],\n",
       "       [ 2.17121993, -0.82268628],\n",
       "       [-0.28178945,  0.60269724],\n",
       "       [-0.28178945, -0.76450736],\n",
       "       [-1.94983583, -0.76450736],\n",
       "       [ 0.40505317,  2.28988589],\n",
       "       [ 0.6994143 ,  0.25362372],\n",
       "       [ 0.20881242, -0.29907601],\n",
       "       [-1.36111358, -1.37538601],\n",
       "       [-0.4780302 , -0.56088114],\n",
       "       [ 0.40505317, -0.00818141],\n",
       "       [ 1.68061805,  1.73718616],\n",
       "       [ 1.19001618, -0.76450736],\n",
       "       [ 0.99377543,  1.4172021 ],\n",
       "       [-1.85171546,  0.16635535],\n",
       "       [ 0.3069328 ,  0.04999751],\n",
       "       [ 0.20881242,  0.02090805],\n",
       "       [-1.06675246,  0.51542886],\n",
       "       [-0.18366908,  1.62082832],\n",
       "       [-0.28178945,  0.13726589],\n",
       "       [-0.28178945, -0.35725492],\n",
       "       [-0.37990983,  1.30084427],\n",
       "       [-0.28178945,  0.07908697],\n",
       "       [ 2.17121993,  1.09721805],\n",
       "       [-1.26299321,  0.4863394 ],\n",
       "       [-1.06675246, -0.47361276],\n",
       "       [-1.65547471, -1.57901222],\n",
       "       [-0.0855487 ,  0.10817643],\n",
       "       [-0.28178945, -0.90995465],\n",
       "       [ 1.58249768, -0.00818141],\n",
       "       [ 0.89565505, -1.17175979],\n",
       "       [ 0.01257167, -0.5899706 ],\n",
       "       [-0.28178945,  2.23170697],\n",
       "       [-0.28178945,  0.19544481],\n",
       "       [ 0.3069328 ,  0.25362372],\n",
       "       [-0.0855487 , -1.08449141],\n",
       "       [ 2.17121993, -0.70632844],\n",
       "       [-0.96863208, -0.32816546],\n",
       "       [-1.45923396, -0.12453925],\n",
       "       [-1.45923396, -0.21180763],\n",
       "       [-0.77239133, -1.54992276],\n",
       "       [-1.26299321, -1.08449141],\n",
       "       [ 2.07309956,  0.36998156],\n",
       "       [ 1.97497918, -0.93904411],\n",
       "       [-1.94983583,  0.3408921 ],\n",
       "       [ 0.79753468, -0.32816546],\n",
       "       [-1.06675246, -1.54992276],\n",
       "       [ 1.97497918, -0.67723898],\n",
       "       [ 0.99377543, -1.17175979],\n",
       "       [ 1.0918958 , -0.15362871],\n",
       "       [ 1.19001618, -0.99722303],\n",
       "       [ 1.4843773 ,  0.04999751],\n",
       "       [ 0.20881242, -0.38634438],\n",
       "       [ 1.38625693,  1.27175481],\n",
       "       [ 2.07309956, -0.82268628],\n",
       "       [-0.18366908, -0.21180763],\n",
       "       [ 0.40505317,  0.98086021],\n",
       "       [-0.0855487 , -0.53179168],\n",
       "       [ 0.99377543, -1.08449141],\n",
       "       [ 2.07309956, -1.20084925],\n",
       "       [-0.0855487 ,  0.25362372],\n",
       "       [ 0.20881242, -0.26998655],\n",
       "       [ 1.0918958 ,  0.10817643],\n",
       "       [-1.26299321,  0.57360778],\n",
       "       [-0.77239133, -1.60810168],\n",
       "       [ 0.20881242,  0.22453427],\n",
       "       [-1.36111358,  0.39907102],\n",
       "       [ 0.01257167, -0.5899706 ],\n",
       "       [ 0.6994143 ,  1.76627562],\n",
       "       [-1.65547471,  0.04999751],\n",
       "       [-0.28178945, -1.37538601],\n",
       "       [-0.28178945, -1.46265438],\n",
       "       [-0.67427095,  0.54451832],\n",
       "       [-0.77239133,  0.28271318],\n",
       "       [ 0.89565505, -0.67723898],\n",
       "       [-1.06675246,  0.57360778],\n",
       "       [-0.28178945,  0.04999751],\n",
       "       [-0.77239133,  1.32993372],\n",
       "       [ 0.11069205,  1.50447048],\n",
       "       [-0.87051171,  0.36998156],\n",
       "       [ 0.3069328 , -0.21180763],\n",
       "       [ 0.99377543,  0.57360778],\n",
       "       [ 0.01257167, -0.32816546],\n",
       "       [-0.57615058, -1.5208333 ],\n",
       "       [ 0.11069205,  0.13726589],\n",
       "       [-1.16487283,  0.31180264],\n",
       "       [ 0.11069205,  1.03903913],\n",
       "       [-1.55735433, -0.4445233 ],\n",
       "       [-0.18366908,  1.38811264],\n",
       "       [ 2.17121993, -0.82268628],\n",
       "       [-0.96863208, -0.4445233 ],\n",
       "       [ 1.28813655,  1.853544  ],\n",
       "       [ 1.0918958 , -1.22993871],\n",
       "       [-0.18366908, -0.29907601],\n",
       "       [ 1.77873843,  0.98086021],\n",
       "       [-1.06675246, -0.35725492],\n",
       "       [-1.36111358, -1.11358087],\n",
       "       [-0.37990983,  0.04999751],\n",
       "       [-0.96863208, -1.11358087],\n",
       "       [ 1.19001618, -1.46265438],\n",
       "       [-0.4780302 , -0.85177573],\n",
       "       [-0.87051171, -0.67723898],\n",
       "       [-1.55735433, -1.5208333 ],\n",
       "       [-0.77239133,  1.88263345],\n",
       "       [ 0.89565505,  1.00994967],\n",
       "       [ 0.79753468,  0.25362372],\n",
       "       [ 0.99377543,  1.853544  ],\n",
       "       [ 0.89565505, -0.61906006],\n",
       "       [ 1.0918958 ,  2.05717021],\n",
       "       [-0.57615058,  0.86450237],\n",
       "       [ 0.01257167,  0.02090805],\n",
       "       [-1.85171546, -1.28811763],\n",
       "       [-0.0855487 ,  0.19544481],\n",
       "       [ 0.89565505, -0.56088114],\n",
       "       [ 0.20881242, -0.38634438],\n",
       "       [-0.18366908,  1.59173886],\n",
       "       [-1.75359508,  0.10817643],\n",
       "       [-0.67427095, -0.35725492],\n",
       "       [ 0.3069328 , -0.7354179 ],\n",
       "       [ 0.40505317, -0.47361276],\n",
       "       [-0.96863208, -0.96813357],\n",
       "       [ 0.11069205,  0.07908697],\n",
       "       [-0.96863208,  0.42816048],\n",
       "       [ 0.01257167, -0.56088114],\n",
       "       [ 0.89565505, -0.79359682],\n",
       "       [-0.0855487 ,  0.04999751],\n",
       "       [ 1.0918958 , -0.99722303],\n",
       "       [ 0.6994143 , -1.40447546],\n",
       "       [-0.28178945,  0.04999751],\n",
       "       [-1.36111358, -1.25902817],\n",
       "       [-1.16487283, -1.02631249],\n",
       "       [ 0.50317355,  1.82445454],\n",
       "       [ 0.11069205,  0.19544481],\n",
       "       [-0.57615058,  0.45724994]])"
      ]
     },
     "execution_count": 17,
     "metadata": {},
     "output_type": "execute_result"
    }
   ],
   "source": [
    "X_trained_scaled = scaler.fit_transform(X_train)\n",
    "X_trained_scaled"
   ]
  },
  {
   "cell_type": "code",
   "execution_count": 18,
   "id": "057260da",
   "metadata": {
    "execution": {
     "iopub.execute_input": "2025-08-15T14:55:22.692963Z",
     "iopub.status.busy": "2025-08-15T14:55:22.691844Z",
     "iopub.status.idle": "2025-08-15T14:55:22.702145Z",
     "shell.execute_reply": "2025-08-15T14:55:22.701294Z"
    },
    "papermill": {
     "duration": 0.034578,
     "end_time": "2025-08-15T14:55:22.703573",
     "exception": false,
     "start_time": "2025-08-15T14:55:22.668995",
     "status": "completed"
    },
    "tags": []
   },
   "outputs": [
    {
     "data": {
      "text/plain": [
       "array([[ 0.80285749, -1.39649711],\n",
       "       [ 1.93579072,  0.62530293],\n",
       "       [-0.76581929, -0.72256376],\n",
       "       [ 0.97715491,  0.8703696 ],\n",
       "       [-0.67867058, -1.21269711],\n",
       "       [-0.59152187, -0.17116375],\n",
       "       [ 0.8900062 ,  1.20733627],\n",
       "       [-0.67867058,  0.47213626],\n",
       "       [ 0.27996523,  0.22706959],\n",
       "       [ 0.45426265, -0.07926375],\n",
       "       [-0.15577832, -0.07926375],\n",
       "       [ 1.41289846, -1.0288971 ],\n",
       "       [-1.20156284, -0.60003043],\n",
       "       [-1.46300897, -1.36586378],\n",
       "       [-0.59152187,  0.5946696 ],\n",
       "       [-0.15577832,  1.23796961],\n",
       "       [ 1.32574975, -0.90636377],\n",
       "       [ 0.80285749,  0.19643625],\n",
       "       [ 0.19281652, -0.78383043],\n",
       "       [ 1.67434459, -0.23243042],\n",
       "       [-1.28871155, -1.24333044],\n",
       "       [-0.67867058,  0.38023626],\n",
       "       [ 0.8900062 , -1.36586378],\n",
       "       [ 1.93579072,  0.25770292],\n",
       "       [-1.55015768, -1.48839711],\n",
       "       [ 1.23860104, -1.36586378],\n",
       "       [ 0.45426265,  0.38023626],\n",
       "       [ 0.0185191 , -0.44686376],\n",
       "       [ 1.58719588,  1.75873629],\n",
       "       [-1.55015768, -1.42713045],\n",
       "       [ 0.80285749, -0.81446377],\n",
       "       [-1.55015768,  0.07390292],\n",
       "       [-0.06862961,  2.34076963],\n",
       "       [-0.76581929,  0.34960292],\n",
       "       [ 0.27996523,  1.20733627],\n",
       "       [-0.15577832,  0.22706959],\n",
       "       [ 0.0185191 , -0.38559709],\n",
       "       [ 0.10566781, -0.07926375],\n",
       "       [-0.94011671, -1.15143044],\n",
       "       [-1.63730639,  0.01263625],\n",
       "       [ 0.97715491, -1.05953044],\n",
       "       [-1.11441413, -0.38559709],\n",
       "       [-1.63730639, -0.47749709],\n",
       "       [ 0.8900062 , -1.45776378],\n",
       "       [-1.46300897, -0.56939709],\n",
       "       [ 0.62856007,  2.18760296],\n",
       "       [-0.67867058, -0.20179709],\n",
       "       [-0.50437316,  0.10453625],\n",
       "       [ 0.97715491, -0.81446377],\n",
       "       [-0.24292703, -0.7531971 ],\n",
       "       [-1.02726542,  0.34960292],\n",
       "       [ 1.41289846,  0.44150293],\n",
       "       [ 0.10566781, -0.38559709],\n",
       "       [-1.02726542,  0.38023626],\n",
       "       [ 0.0185191 ,  0.38023626],\n",
       "       [-0.852968  , -1.12079711],\n",
       "       [ 2.02293943,  1.0541696 ],\n",
       "       [-0.94011671,  1.54430295],\n",
       "       [-0.50437316,  0.19643625],\n",
       "       [-0.50437316,  0.25770292],\n",
       "       [ 0.36711394, -0.50813043],\n",
       "       [-0.15577832, -0.32433042],\n",
       "       [ 1.32574975,  0.6865696 ],\n",
       "       [-0.76581929,  0.5946696 ],\n",
       "       [-0.76581929, -0.26306376],\n",
       "       [-0.852968  ,  2.12633629],\n",
       "       [ 0.45426265,  0.6865696 ],\n",
       "       [ 0.8900062 ,  2.34076963],\n",
       "       [ 0.19281652, -0.26306376],\n",
       "       [-0.33007574,  1.39113628],\n",
       "       [ 1.32574975,  2.15696963],\n",
       "       [-1.55015768,  0.53340293],\n",
       "       [-0.852968  , -0.29369709],\n",
       "       [-1.20156284, -1.45776378],\n",
       "       [ 0.8900062 , -1.0288971 ],\n",
       "       [-0.15577832, -0.53876376],\n",
       "       [ 1.67434459,  2.00380296],\n",
       "       [ 1.50004717, -1.27396378],\n",
       "       [-0.15577832, -0.63066376],\n",
       "       [ 0.0185191 ,  0.31896959]])"
      ]
     },
     "execution_count": 18,
     "metadata": {},
     "output_type": "execute_result"
    }
   ],
   "source": [
    "X_test_scaled = scaler.fit_transform(X_test)\n",
    "X_test_scaled"
   ]
  },
  {
   "cell_type": "code",
   "execution_count": 19,
   "id": "07a82748",
   "metadata": {
    "execution": {
     "iopub.execute_input": "2025-08-15T14:55:22.814173Z",
     "iopub.status.busy": "2025-08-15T14:55:22.813781Z",
     "iopub.status.idle": "2025-08-15T14:55:22.819332Z",
     "shell.execute_reply": "2025-08-15T14:55:22.818448Z"
    },
    "papermill": {
     "duration": 0.029427,
     "end_time": "2025-08-15T14:55:22.821123",
     "exception": false,
     "start_time": "2025-08-15T14:55:22.791696",
     "status": "completed"
    },
    "tags": []
   },
   "outputs": [],
   "source": [
    "model = Sequential()"
   ]
  },
  {
   "cell_type": "code",
   "execution_count": 20,
   "id": "e3a12e45",
   "metadata": {
    "execution": {
     "iopub.execute_input": "2025-08-15T14:55:22.865919Z",
     "iopub.status.busy": "2025-08-15T14:55:22.865572Z",
     "iopub.status.idle": "2025-08-15T14:55:22.891023Z",
     "shell.execute_reply": "2025-08-15T14:55:22.890042Z"
    },
    "papermill": {
     "duration": 0.049755,
     "end_time": "2025-08-15T14:55:22.892590",
     "exception": false,
     "start_time": "2025-08-15T14:55:22.842835",
     "status": "completed"
    },
    "tags": []
   },
   "outputs": [
    {
     "name": "stderr",
     "output_type": "stream",
     "text": [
      "/usr/local/lib/python3.11/dist-packages/keras/src/layers/core/dense.py:87: UserWarning: Do not pass an `input_shape`/`input_dim` argument to a layer. When using Sequential models, prefer using an `Input(shape)` object as the first layer in the model instead.\n",
      "  super().__init__(activity_regularizer=activity_regularizer, **kwargs)\n"
     ]
    }
   ],
   "source": [
    "model.add(Dense(128, activation='relu', input_dim=2))\n",
    "model.add(Dense(1, activation='sigmoid'))"
   ]
  },
  {
   "cell_type": "code",
   "execution_count": 21,
   "id": "67fb6a27",
   "metadata": {
    "execution": {
     "iopub.execute_input": "2025-08-15T14:55:22.937208Z",
     "iopub.status.busy": "2025-08-15T14:55:22.936795Z",
     "iopub.status.idle": "2025-08-15T14:55:22.951863Z",
     "shell.execute_reply": "2025-08-15T14:55:22.950952Z"
    },
    "papermill": {
     "duration": 0.039193,
     "end_time": "2025-08-15T14:55:22.953451",
     "exception": false,
     "start_time": "2025-08-15T14:55:22.914258",
     "status": "completed"
    },
    "tags": []
   },
   "outputs": [
    {
     "data": {
      "text/html": [
       "<pre style=\"white-space:pre;overflow-x:auto;line-height:normal;font-family:Menlo,'DejaVu Sans Mono',consolas,'Courier New',monospace\"><span style=\"font-weight: bold\">Model: \"sequential_1\"</span>\n",
       "</pre>\n"
      ],
      "text/plain": [
       "\u001b[1mModel: \"sequential_1\"\u001b[0m\n"
      ]
     },
     "metadata": {},
     "output_type": "display_data"
    },
    {
     "data": {
      "text/html": [
       "<pre style=\"white-space:pre;overflow-x:auto;line-height:normal;font-family:Menlo,'DejaVu Sans Mono',consolas,'Courier New',monospace\">┏━━━━━━━━━━━━━━━━━━━━━━━━━━━━━━━━━┳━━━━━━━━━━━━━━━━━━━━━━━━┳━━━━━━━━━━━━━━━┓\n",
       "┃<span style=\"font-weight: bold\"> Layer (type)                    </span>┃<span style=\"font-weight: bold\"> Output Shape           </span>┃<span style=\"font-weight: bold\">       Param # </span>┃\n",
       "┡━━━━━━━━━━━━━━━━━━━━━━━━━━━━━━━━━╇━━━━━━━━━━━━━━━━━━━━━━━━╇━━━━━━━━━━━━━━━┩\n",
       "│ dense_2 (<span style=\"color: #0087ff; text-decoration-color: #0087ff\">Dense</span>)                 │ (<span style=\"color: #00d7ff; text-decoration-color: #00d7ff\">None</span>, <span style=\"color: #00af00; text-decoration-color: #00af00\">128</span>)            │           <span style=\"color: #00af00; text-decoration-color: #00af00\">384</span> │\n",
       "├─────────────────────────────────┼────────────────────────┼───────────────┤\n",
       "│ dense_3 (<span style=\"color: #0087ff; text-decoration-color: #0087ff\">Dense</span>)                 │ (<span style=\"color: #00d7ff; text-decoration-color: #00d7ff\">None</span>, <span style=\"color: #00af00; text-decoration-color: #00af00\">1</span>)              │           <span style=\"color: #00af00; text-decoration-color: #00af00\">129</span> │\n",
       "└─────────────────────────────────┴────────────────────────┴───────────────┘\n",
       "</pre>\n"
      ],
      "text/plain": [
       "┏━━━━━━━━━━━━━━━━━━━━━━━━━━━━━━━━━┳━━━━━━━━━━━━━━━━━━━━━━━━┳━━━━━━━━━━━━━━━┓\n",
       "┃\u001b[1m \u001b[0m\u001b[1mLayer (type)                   \u001b[0m\u001b[1m \u001b[0m┃\u001b[1m \u001b[0m\u001b[1mOutput Shape          \u001b[0m\u001b[1m \u001b[0m┃\u001b[1m \u001b[0m\u001b[1m      Param #\u001b[0m\u001b[1m \u001b[0m┃\n",
       "┡━━━━━━━━━━━━━━━━━━━━━━━━━━━━━━━━━╇━━━━━━━━━━━━━━━━━━━━━━━━╇━━━━━━━━━━━━━━━┩\n",
       "│ dense_2 (\u001b[38;5;33mDense\u001b[0m)                 │ (\u001b[38;5;45mNone\u001b[0m, \u001b[38;5;34m128\u001b[0m)            │           \u001b[38;5;34m384\u001b[0m │\n",
       "├─────────────────────────────────┼────────────────────────┼───────────────┤\n",
       "│ dense_3 (\u001b[38;5;33mDense\u001b[0m)                 │ (\u001b[38;5;45mNone\u001b[0m, \u001b[38;5;34m1\u001b[0m)              │           \u001b[38;5;34m129\u001b[0m │\n",
       "└─────────────────────────────────┴────────────────────────┴───────────────┘\n"
      ]
     },
     "metadata": {},
     "output_type": "display_data"
    },
    {
     "data": {
      "text/html": [
       "<pre style=\"white-space:pre;overflow-x:auto;line-height:normal;font-family:Menlo,'DejaVu Sans Mono',consolas,'Courier New',monospace\"><span style=\"font-weight: bold\"> Total params: </span><span style=\"color: #00af00; text-decoration-color: #00af00\">513</span> (2.00 KB)\n",
       "</pre>\n"
      ],
      "text/plain": [
       "\u001b[1m Total params: \u001b[0m\u001b[38;5;34m513\u001b[0m (2.00 KB)\n"
      ]
     },
     "metadata": {},
     "output_type": "display_data"
    },
    {
     "data": {
      "text/html": [
       "<pre style=\"white-space:pre;overflow-x:auto;line-height:normal;font-family:Menlo,'DejaVu Sans Mono',consolas,'Courier New',monospace\"><span style=\"font-weight: bold\"> Trainable params: </span><span style=\"color: #00af00; text-decoration-color: #00af00\">513</span> (2.00 KB)\n",
       "</pre>\n"
      ],
      "text/plain": [
       "\u001b[1m Trainable params: \u001b[0m\u001b[38;5;34m513\u001b[0m (2.00 KB)\n"
      ]
     },
     "metadata": {},
     "output_type": "display_data"
    },
    {
     "data": {
      "text/html": [
       "<pre style=\"white-space:pre;overflow-x:auto;line-height:normal;font-family:Menlo,'DejaVu Sans Mono',consolas,'Courier New',monospace\"><span style=\"font-weight: bold\"> Non-trainable params: </span><span style=\"color: #00af00; text-decoration-color: #00af00\">0</span> (0.00 B)\n",
       "</pre>\n"
      ],
      "text/plain": [
       "\u001b[1m Non-trainable params: \u001b[0m\u001b[38;5;34m0\u001b[0m (0.00 B)\n"
      ]
     },
     "metadata": {},
     "output_type": "display_data"
    }
   ],
   "source": [
    "model.summary()"
   ]
  },
  {
   "cell_type": "code",
   "execution_count": 22,
   "id": "5d00a6b7",
   "metadata": {
    "execution": {
     "iopub.execute_input": "2025-08-15T14:55:22.999862Z",
     "iopub.status.busy": "2025-08-15T14:55:22.999556Z",
     "iopub.status.idle": "2025-08-15T14:55:23.010406Z",
     "shell.execute_reply": "2025-08-15T14:55:23.009369Z"
    },
    "papermill": {
     "duration": 0.036264,
     "end_time": "2025-08-15T14:55:23.012089",
     "exception": false,
     "start_time": "2025-08-15T14:55:22.975825",
     "status": "completed"
    },
    "tags": []
   },
   "outputs": [],
   "source": [
    "model.compile(loss='binary_crossentropy', optimizer='adam', metrics=['accuracy'])"
   ]
  },
  {
   "cell_type": "code",
   "execution_count": 23,
   "id": "16086533",
   "metadata": {
    "execution": {
     "iopub.execute_input": "2025-08-15T14:55:23.057432Z",
     "iopub.status.busy": "2025-08-15T14:55:23.057108Z",
     "iopub.status.idle": "2025-08-15T14:55:36.239592Z",
     "shell.execute_reply": "2025-08-15T14:55:36.238810Z"
    },
    "papermill": {
     "duration": 13.20708,
     "end_time": "2025-08-15T14:55:36.241376",
     "exception": false,
     "start_time": "2025-08-15T14:55:23.034296",
     "status": "completed"
    },
    "tags": []
   },
   "outputs": [
    {
     "name": "stdout",
     "output_type": "stream",
     "text": [
      "Epoch 1/100\n",
      "\u001b[1m10/10\u001b[0m \u001b[32m━━━━━━━━━━━━━━━━━━━━\u001b[0m\u001b[37m\u001b[0m \u001b[1m1s\u001b[0m 35ms/step - accuracy: 0.7246 - loss: 0.6505 - val_accuracy: 0.7875 - val_loss: 0.5936\n",
      "Epoch 2/100\n",
      "\u001b[1m10/10\u001b[0m \u001b[32m━━━━━━━━━━━━━━━━━━━━\u001b[0m\u001b[37m\u001b[0m \u001b[1m0s\u001b[0m 9ms/step - accuracy: 0.7772 - loss: 0.6003 - val_accuracy: 0.8000 - val_loss: 0.5418\n",
      "Epoch 3/100\n",
      "\u001b[1m10/10\u001b[0m \u001b[32m━━━━━━━━━━━━━━━━━━━━\u001b[0m\u001b[37m\u001b[0m \u001b[1m0s\u001b[0m 9ms/step - accuracy: 0.7858 - loss: 0.5532 - val_accuracy: 0.8125 - val_loss: 0.4983\n",
      "Epoch 4/100\n",
      "\u001b[1m10/10\u001b[0m \u001b[32m━━━━━━━━━━━━━━━━━━━━\u001b[0m\u001b[37m\u001b[0m \u001b[1m0s\u001b[0m 10ms/step - accuracy: 0.8083 - loss: 0.4963 - val_accuracy: 0.8375 - val_loss: 0.4603\n",
      "Epoch 5/100\n",
      "\u001b[1m10/10\u001b[0m \u001b[32m━━━━━━━━━━━━━━━━━━━━\u001b[0m\u001b[37m\u001b[0m \u001b[1m0s\u001b[0m 10ms/step - accuracy: 0.8183 - loss: 0.4814 - val_accuracy: 0.8375 - val_loss: 0.4295\n",
      "Epoch 6/100\n",
      "\u001b[1m10/10\u001b[0m \u001b[32m━━━━━━━━━━━━━━━━━━━━\u001b[0m\u001b[37m\u001b[0m \u001b[1m0s\u001b[0m 10ms/step - accuracy: 0.7714 - loss: 0.4503 - val_accuracy: 0.8500 - val_loss: 0.3998\n",
      "Epoch 7/100\n",
      "\u001b[1m10/10\u001b[0m \u001b[32m━━━━━━━━━━━━━━━━━━━━\u001b[0m\u001b[37m\u001b[0m \u001b[1m0s\u001b[0m 10ms/step - accuracy: 0.8392 - loss: 0.4281 - val_accuracy: 0.8625 - val_loss: 0.3745\n",
      "Epoch 8/100\n",
      "\u001b[1m10/10\u001b[0m \u001b[32m━━━━━━━━━━━━━━━━━━━━\u001b[0m\u001b[37m\u001b[0m \u001b[1m0s\u001b[0m 10ms/step - accuracy: 0.8634 - loss: 0.4128 - val_accuracy: 0.8750 - val_loss: 0.3527\n",
      "Epoch 9/100\n",
      "\u001b[1m10/10\u001b[0m \u001b[32m━━━━━━━━━━━━━━━━━━━━\u001b[0m\u001b[37m\u001b[0m \u001b[1m0s\u001b[0m 9ms/step - accuracy: 0.8514 - loss: 0.3951 - val_accuracy: 0.8875 - val_loss: 0.3349\n",
      "Epoch 10/100\n",
      "\u001b[1m10/10\u001b[0m \u001b[32m━━━━━━━━━━━━━━━━━━━━\u001b[0m\u001b[37m\u001b[0m \u001b[1m0s\u001b[0m 9ms/step - accuracy: 0.8493 - loss: 0.4034 - val_accuracy: 0.8875 - val_loss: 0.3169\n",
      "Epoch 11/100\n",
      "\u001b[1m10/10\u001b[0m \u001b[32m━━━━━━━━━━━━━━━━━━━━\u001b[0m\u001b[37m\u001b[0m \u001b[1m0s\u001b[0m 10ms/step - accuracy: 0.8639 - loss: 0.3545 - val_accuracy: 0.9125 - val_loss: 0.3004\n",
      "Epoch 12/100\n",
      "\u001b[1m10/10\u001b[0m \u001b[32m━━━━━━━━━━━━━━━━━━━━\u001b[0m\u001b[37m\u001b[0m \u001b[1m0s\u001b[0m 9ms/step - accuracy: 0.8787 - loss: 0.3456 - val_accuracy: 0.9250 - val_loss: 0.2875\n",
      "Epoch 13/100\n",
      "\u001b[1m10/10\u001b[0m \u001b[32m━━━━━━━━━━━━━━━━━━━━\u001b[0m\u001b[37m\u001b[0m \u001b[1m0s\u001b[0m 10ms/step - accuracy: 0.8730 - loss: 0.3355 - val_accuracy: 0.9375 - val_loss: 0.2759\n",
      "Epoch 14/100\n",
      "\u001b[1m10/10\u001b[0m \u001b[32m━━━━━━━━━━━━━━━━━━━━\u001b[0m\u001b[37m\u001b[0m \u001b[1m0s\u001b[0m 11ms/step - accuracy: 0.8616 - loss: 0.3505 - val_accuracy: 0.9375 - val_loss: 0.2680\n",
      "Epoch 15/100\n",
      "\u001b[1m10/10\u001b[0m \u001b[32m━━━━━━━━━━━━━━━━━━━━\u001b[0m\u001b[37m\u001b[0m \u001b[1m0s\u001b[0m 10ms/step - accuracy: 0.8786 - loss: 0.3260 - val_accuracy: 0.9375 - val_loss: 0.2581\n",
      "Epoch 16/100\n",
      "\u001b[1m10/10\u001b[0m \u001b[32m━━━━━━━━━━━━━━━━━━━━\u001b[0m\u001b[37m\u001b[0m \u001b[1m0s\u001b[0m 10ms/step - accuracy: 0.8809 - loss: 0.3135 - val_accuracy: 0.9375 - val_loss: 0.2513\n",
      "Epoch 17/100\n",
      "\u001b[1m10/10\u001b[0m \u001b[32m━━━━━━━━━━━━━━━━━━━━\u001b[0m\u001b[37m\u001b[0m \u001b[1m0s\u001b[0m 10ms/step - accuracy: 0.8832 - loss: 0.3229 - val_accuracy: 0.9250 - val_loss: 0.2445\n",
      "Epoch 18/100\n",
      "\u001b[1m10/10\u001b[0m \u001b[32m━━━━━━━━━━━━━━━━━━━━\u001b[0m\u001b[37m\u001b[0m \u001b[1m0s\u001b[0m 9ms/step - accuracy: 0.9053 - loss: 0.2961 - val_accuracy: 0.9125 - val_loss: 0.2388\n",
      "Epoch 19/100\n",
      "\u001b[1m10/10\u001b[0m \u001b[32m━━━━━━━━━━━━━━━━━━━━\u001b[0m\u001b[37m\u001b[0m \u001b[1m0s\u001b[0m 10ms/step - accuracy: 0.8925 - loss: 0.3026 - val_accuracy: 0.9125 - val_loss: 0.2327\n",
      "Epoch 20/100\n",
      "\u001b[1m10/10\u001b[0m \u001b[32m━━━━━━━━━━━━━━━━━━━━\u001b[0m\u001b[37m\u001b[0m \u001b[1m0s\u001b[0m 9ms/step - accuracy: 0.8761 - loss: 0.3291 - val_accuracy: 0.9125 - val_loss: 0.2298\n",
      "Epoch 21/100\n",
      "\u001b[1m10/10\u001b[0m \u001b[32m━━━━━━━━━━━━━━━━━━━━\u001b[0m\u001b[37m\u001b[0m \u001b[1m0s\u001b[0m 10ms/step - accuracy: 0.8901 - loss: 0.3035 - val_accuracy: 0.9125 - val_loss: 0.2256\n",
      "Epoch 22/100\n",
      "\u001b[1m10/10\u001b[0m \u001b[32m━━━━━━━━━━━━━━━━━━━━\u001b[0m\u001b[37m\u001b[0m \u001b[1m0s\u001b[0m 10ms/step - accuracy: 0.9216 - loss: 0.2566 - val_accuracy: 0.9125 - val_loss: 0.2213\n",
      "Epoch 23/100\n",
      "\u001b[1m10/10\u001b[0m \u001b[32m━━━━━━━━━━━━━━━━━━━━\u001b[0m\u001b[37m\u001b[0m \u001b[1m0s\u001b[0m 10ms/step - accuracy: 0.8846 - loss: 0.2987 - val_accuracy: 0.9125 - val_loss: 0.2195\n",
      "Epoch 24/100\n",
      "\u001b[1m10/10\u001b[0m \u001b[32m━━━━━━━━━━━━━━━━━━━━\u001b[0m\u001b[37m\u001b[0m \u001b[1m0s\u001b[0m 11ms/step - accuracy: 0.8625 - loss: 0.3056 - val_accuracy: 0.9125 - val_loss: 0.2177\n",
      "Epoch 25/100\n",
      "\u001b[1m10/10\u001b[0m \u001b[32m━━━━━━━━━━━━━━━━━━━━\u001b[0m\u001b[37m\u001b[0m \u001b[1m0s\u001b[0m 11ms/step - accuracy: 0.8682 - loss: 0.3190 - val_accuracy: 0.9125 - val_loss: 0.2161\n",
      "Epoch 26/100\n",
      "\u001b[1m10/10\u001b[0m \u001b[32m━━━━━━━━━━━━━━━━━━━━\u001b[0m\u001b[37m\u001b[0m \u001b[1m0s\u001b[0m 10ms/step - accuracy: 0.9105 - loss: 0.2474 - val_accuracy: 0.9125 - val_loss: 0.2129\n",
      "Epoch 27/100\n",
      "\u001b[1m10/10\u001b[0m \u001b[32m━━━━━━━━━━━━━━━━━━━━\u001b[0m\u001b[37m\u001b[0m \u001b[1m0s\u001b[0m 10ms/step - accuracy: 0.8798 - loss: 0.3205 - val_accuracy: 0.9125 - val_loss: 0.2122\n",
      "Epoch 28/100\n",
      "\u001b[1m10/10\u001b[0m \u001b[32m━━━━━━━━━━━━━━━━━━━━\u001b[0m\u001b[37m\u001b[0m \u001b[1m0s\u001b[0m 10ms/step - accuracy: 0.9028 - loss: 0.2800 - val_accuracy: 0.9125 - val_loss: 0.2100\n",
      "Epoch 29/100\n",
      "\u001b[1m10/10\u001b[0m \u001b[32m━━━━━━━━━━━━━━━━━━━━\u001b[0m\u001b[37m\u001b[0m \u001b[1m0s\u001b[0m 10ms/step - accuracy: 0.9255 - loss: 0.2326 - val_accuracy: 0.9125 - val_loss: 0.2079\n",
      "Epoch 30/100\n",
      "\u001b[1m10/10\u001b[0m \u001b[32m━━━━━━━━━━━━━━━━━━━━\u001b[0m\u001b[37m\u001b[0m \u001b[1m0s\u001b[0m 12ms/step - accuracy: 0.9148 - loss: 0.2493 - val_accuracy: 0.9125 - val_loss: 0.2084\n",
      "Epoch 31/100\n",
      "\u001b[1m10/10\u001b[0m \u001b[32m━━━━━━━━━━━━━━━━━━━━\u001b[0m\u001b[37m\u001b[0m \u001b[1m0s\u001b[0m 10ms/step - accuracy: 0.8871 - loss: 0.2904 - val_accuracy: 0.9125 - val_loss: 0.2079\n",
      "Epoch 32/100\n",
      "\u001b[1m10/10\u001b[0m \u001b[32m━━━━━━━━━━━━━━━━━━━━\u001b[0m\u001b[37m\u001b[0m \u001b[1m0s\u001b[0m 10ms/step - accuracy: 0.8894 - loss: 0.2869 - val_accuracy: 0.9125 - val_loss: 0.2057\n",
      "Epoch 33/100\n",
      "\u001b[1m10/10\u001b[0m \u001b[32m━━━━━━━━━━━━━━━━━━━━\u001b[0m\u001b[37m\u001b[0m \u001b[1m0s\u001b[0m 10ms/step - accuracy: 0.8997 - loss: 0.2735 - val_accuracy: 0.9250 - val_loss: 0.2054\n",
      "Epoch 34/100\n",
      "\u001b[1m10/10\u001b[0m \u001b[32m━━━━━━━━━━━━━━━━━━━━\u001b[0m\u001b[37m\u001b[0m \u001b[1m0s\u001b[0m 10ms/step - accuracy: 0.8968 - loss: 0.2702 - val_accuracy: 0.9250 - val_loss: 0.2048\n",
      "Epoch 35/100\n",
      "\u001b[1m10/10\u001b[0m \u001b[32m━━━━━━━━━━━━━━━━━━━━\u001b[0m\u001b[37m\u001b[0m \u001b[1m0s\u001b[0m 10ms/step - accuracy: 0.8923 - loss: 0.2839 - val_accuracy: 0.9250 - val_loss: 0.2047\n",
      "Epoch 36/100\n",
      "\u001b[1m10/10\u001b[0m \u001b[32m━━━━━━━━━━━━━━━━━━━━\u001b[0m\u001b[37m\u001b[0m \u001b[1m0s\u001b[0m 10ms/step - accuracy: 0.9018 - loss: 0.2843 - val_accuracy: 0.9250 - val_loss: 0.2061\n",
      "Epoch 37/100\n",
      "\u001b[1m10/10\u001b[0m \u001b[32m━━━━━━━━━━━━━━━━━━━━\u001b[0m\u001b[37m\u001b[0m \u001b[1m0s\u001b[0m 10ms/step - accuracy: 0.9052 - loss: 0.2428 - val_accuracy: 0.9125 - val_loss: 0.2058\n",
      "Epoch 38/100\n",
      "\u001b[1m10/10\u001b[0m \u001b[32m━━━━━━━━━━━━━━━━━━━━\u001b[0m\u001b[37m\u001b[0m \u001b[1m0s\u001b[0m 10ms/step - accuracy: 0.8617 - loss: 0.3143 - val_accuracy: 0.9250 - val_loss: 0.2051\n",
      "Epoch 39/100\n",
      "\u001b[1m10/10\u001b[0m \u001b[32m━━━━━━━━━━━━━━━━━━━━\u001b[0m\u001b[37m\u001b[0m \u001b[1m0s\u001b[0m 10ms/step - accuracy: 0.9304 - loss: 0.2240 - val_accuracy: 0.9250 - val_loss: 0.2033\n",
      "Epoch 40/100\n",
      "\u001b[1m10/10\u001b[0m \u001b[32m━━━━━━━━━━━━━━━━━━━━\u001b[0m\u001b[37m\u001b[0m \u001b[1m0s\u001b[0m 10ms/step - accuracy: 0.9198 - loss: 0.2380 - val_accuracy: 0.9250 - val_loss: 0.2004\n",
      "Epoch 41/100\n",
      "\u001b[1m10/10\u001b[0m \u001b[32m━━━━━━━━━━━━━━━━━━━━\u001b[0m\u001b[37m\u001b[0m \u001b[1m0s\u001b[0m 10ms/step - accuracy: 0.9054 - loss: 0.2686 - val_accuracy: 0.9250 - val_loss: 0.2024\n",
      "Epoch 42/100\n",
      "\u001b[1m10/10\u001b[0m \u001b[32m━━━━━━━━━━━━━━━━━━━━\u001b[0m\u001b[37m\u001b[0m \u001b[1m0s\u001b[0m 10ms/step - accuracy: 0.9076 - loss: 0.2614 - val_accuracy: 0.9250 - val_loss: 0.2037\n",
      "Epoch 43/100\n",
      "\u001b[1m10/10\u001b[0m \u001b[32m━━━━━━━━━━━━━━━━━━━━\u001b[0m\u001b[37m\u001b[0m \u001b[1m0s\u001b[0m 9ms/step - accuracy: 0.8993 - loss: 0.2689 - val_accuracy: 0.9250 - val_loss: 0.2047\n",
      "Epoch 44/100\n",
      "\u001b[1m10/10\u001b[0m \u001b[32m━━━━━━━━━━━━━━━━━━━━\u001b[0m\u001b[37m\u001b[0m \u001b[1m0s\u001b[0m 9ms/step - accuracy: 0.9101 - loss: 0.2491 - val_accuracy: 0.9250 - val_loss: 0.2038\n",
      "Epoch 45/100\n",
      "\u001b[1m10/10\u001b[0m \u001b[32m━━━━━━━━━━━━━━━━━━━━\u001b[0m\u001b[37m\u001b[0m \u001b[1m0s\u001b[0m 10ms/step - accuracy: 0.9071 - loss: 0.2541 - val_accuracy: 0.9250 - val_loss: 0.2017\n",
      "Epoch 46/100\n",
      "\u001b[1m10/10\u001b[0m \u001b[32m━━━━━━━━━━━━━━━━━━━━\u001b[0m\u001b[37m\u001b[0m \u001b[1m0s\u001b[0m 10ms/step - accuracy: 0.8995 - loss: 0.2652 - val_accuracy: 0.9250 - val_loss: 0.2041\n",
      "Epoch 47/100\n",
      "\u001b[1m10/10\u001b[0m \u001b[32m━━━━━━━━━━━━━━━━━━━━\u001b[0m\u001b[37m\u001b[0m \u001b[1m0s\u001b[0m 10ms/step - accuracy: 0.8870 - loss: 0.3132 - val_accuracy: 0.9250 - val_loss: 0.2029\n",
      "Epoch 48/100\n",
      "\u001b[1m10/10\u001b[0m \u001b[32m━━━━━━━━━━━━━━━━━━━━\u001b[0m\u001b[37m\u001b[0m \u001b[1m0s\u001b[0m 10ms/step - accuracy: 0.9001 - loss: 0.2824 - val_accuracy: 0.9250 - val_loss: 0.2026\n",
      "Epoch 49/100\n",
      "\u001b[1m10/10\u001b[0m \u001b[32m━━━━━━━━━━━━━━━━━━━━\u001b[0m\u001b[37m\u001b[0m \u001b[1m0s\u001b[0m 10ms/step - accuracy: 0.8960 - loss: 0.2638 - val_accuracy: 0.9250 - val_loss: 0.2012\n",
      "Epoch 50/100\n",
      "\u001b[1m10/10\u001b[0m \u001b[32m━━━━━━━━━━━━━━━━━━━━\u001b[0m\u001b[37m\u001b[0m \u001b[1m0s\u001b[0m 10ms/step - accuracy: 0.9190 - loss: 0.2174 - val_accuracy: 0.9250 - val_loss: 0.2001\n",
      "Epoch 51/100\n",
      "\u001b[1m10/10\u001b[0m \u001b[32m━━━━━━━━━━━━━━━━━━━━\u001b[0m\u001b[37m\u001b[0m \u001b[1m0s\u001b[0m 9ms/step - accuracy: 0.8739 - loss: 0.2895 - val_accuracy: 0.9250 - val_loss: 0.2027\n",
      "Epoch 52/100\n",
      "\u001b[1m10/10\u001b[0m \u001b[32m━━━━━━━━━━━━━━━━━━━━\u001b[0m\u001b[37m\u001b[0m \u001b[1m0s\u001b[0m 9ms/step - accuracy: 0.9076 - loss: 0.2673 - val_accuracy: 0.9250 - val_loss: 0.2020\n",
      "Epoch 53/100\n",
      "\u001b[1m10/10\u001b[0m \u001b[32m━━━━━━━━━━━━━━━━━━━━\u001b[0m\u001b[37m\u001b[0m \u001b[1m0s\u001b[0m 10ms/step - accuracy: 0.9095 - loss: 0.2587 - val_accuracy: 0.9250 - val_loss: 0.2030\n",
      "Epoch 54/100\n",
      "\u001b[1m10/10\u001b[0m \u001b[32m━━━━━━━━━━━━━━━━━━━━\u001b[0m\u001b[37m\u001b[0m \u001b[1m0s\u001b[0m 10ms/step - accuracy: 0.9030 - loss: 0.2447 - val_accuracy: 0.9250 - val_loss: 0.2022\n",
      "Epoch 55/100\n",
      "\u001b[1m10/10\u001b[0m \u001b[32m━━━━━━━━━━━━━━━━━━━━\u001b[0m\u001b[37m\u001b[0m \u001b[1m0s\u001b[0m 10ms/step - accuracy: 0.8950 - loss: 0.2491 - val_accuracy: 0.9375 - val_loss: 0.2030\n",
      "Epoch 56/100\n",
      "\u001b[1m10/10\u001b[0m \u001b[32m━━━━━━━━━━━━━━━━━━━━\u001b[0m\u001b[37m\u001b[0m \u001b[1m0s\u001b[0m 10ms/step - accuracy: 0.9160 - loss: 0.2516 - val_accuracy: 0.9375 - val_loss: 0.2016\n",
      "Epoch 57/100\n",
      "\u001b[1m10/10\u001b[0m \u001b[32m━━━━━━━━━━━━━━━━━━━━\u001b[0m\u001b[37m\u001b[0m \u001b[1m0s\u001b[0m 10ms/step - accuracy: 0.8979 - loss: 0.2715 - val_accuracy: 0.9250 - val_loss: 0.2021\n",
      "Epoch 58/100\n",
      "\u001b[1m10/10\u001b[0m \u001b[32m━━━━━━━━━━━━━━━━━━━━\u001b[0m\u001b[37m\u001b[0m \u001b[1m0s\u001b[0m 10ms/step - accuracy: 0.8918 - loss: 0.2718 - val_accuracy: 0.9250 - val_loss: 0.2045\n",
      "Epoch 59/100\n",
      "\u001b[1m10/10\u001b[0m \u001b[32m━━━━━━━━━━━━━━━━━━━━\u001b[0m\u001b[37m\u001b[0m \u001b[1m0s\u001b[0m 10ms/step - accuracy: 0.9039 - loss: 0.2585 - val_accuracy: 0.9375 - val_loss: 0.2018\n",
      "Epoch 60/100\n",
      "\u001b[1m10/10\u001b[0m \u001b[32m━━━━━━━━━━━━━━━━━━━━\u001b[0m\u001b[37m\u001b[0m \u001b[1m0s\u001b[0m 10ms/step - accuracy: 0.9169 - loss: 0.2426 - val_accuracy: 0.9375 - val_loss: 0.2018\n",
      "Epoch 61/100\n",
      "\u001b[1m10/10\u001b[0m \u001b[32m━━━━━━━━━━━━━━━━━━━━\u001b[0m\u001b[37m\u001b[0m \u001b[1m0s\u001b[0m 9ms/step - accuracy: 0.9222 - loss: 0.2175 - val_accuracy: 0.9250 - val_loss: 0.2027\n",
      "Epoch 62/100\n",
      "\u001b[1m10/10\u001b[0m \u001b[32m━━━━━━━━━━━━━━━━━━━━\u001b[0m\u001b[37m\u001b[0m \u001b[1m0s\u001b[0m 10ms/step - accuracy: 0.8908 - loss: 0.2829 - val_accuracy: 0.9375 - val_loss: 0.2043\n",
      "Epoch 63/100\n",
      "\u001b[1m10/10\u001b[0m \u001b[32m━━━━━━━━━━━━━━━━━━━━\u001b[0m\u001b[37m\u001b[0m \u001b[1m0s\u001b[0m 10ms/step - accuracy: 0.9153 - loss: 0.2475 - val_accuracy: 0.9375 - val_loss: 0.2036\n",
      "Epoch 64/100\n",
      "\u001b[1m10/10\u001b[0m \u001b[32m━━━━━━━━━━━━━━━━━━━━\u001b[0m\u001b[37m\u001b[0m \u001b[1m0s\u001b[0m 10ms/step - accuracy: 0.9019 - loss: 0.2781 - val_accuracy: 0.9375 - val_loss: 0.2042\n",
      "Epoch 65/100\n",
      "\u001b[1m10/10\u001b[0m \u001b[32m━━━━━━━━━━━━━━━━━━━━\u001b[0m\u001b[37m\u001b[0m \u001b[1m0s\u001b[0m 10ms/step - accuracy: 0.9228 - loss: 0.2158 - val_accuracy: 0.9375 - val_loss: 0.2040\n",
      "Epoch 66/100\n",
      "\u001b[1m10/10\u001b[0m \u001b[32m━━━━━━━━━━━━━━━━━━━━\u001b[0m\u001b[37m\u001b[0m \u001b[1m0s\u001b[0m 10ms/step - accuracy: 0.9039 - loss: 0.2434 - val_accuracy: 0.9375 - val_loss: 0.2032\n",
      "Epoch 67/100\n",
      "\u001b[1m10/10\u001b[0m \u001b[32m━━━━━━━━━━━━━━━━━━━━\u001b[0m\u001b[37m\u001b[0m \u001b[1m0s\u001b[0m 10ms/step - accuracy: 0.8967 - loss: 0.2576 - val_accuracy: 0.9375 - val_loss: 0.2038\n",
      "Epoch 68/100\n",
      "\u001b[1m10/10\u001b[0m \u001b[32m━━━━━━━━━━━━━━━━━━━━\u001b[0m\u001b[37m\u001b[0m \u001b[1m0s\u001b[0m 10ms/step - accuracy: 0.8952 - loss: 0.2584 - val_accuracy: 0.9375 - val_loss: 0.2053\n",
      "Epoch 69/100\n",
      "\u001b[1m10/10\u001b[0m \u001b[32m━━━━━━━━━━━━━━━━━━━━\u001b[0m\u001b[37m\u001b[0m \u001b[1m0s\u001b[0m 10ms/step - accuracy: 0.9060 - loss: 0.2472 - val_accuracy: 0.9375 - val_loss: 0.2050\n",
      "Epoch 70/100\n",
      "\u001b[1m10/10\u001b[0m \u001b[32m━━━━━━━━━━━━━━━━━━━━\u001b[0m\u001b[37m\u001b[0m \u001b[1m0s\u001b[0m 10ms/step - accuracy: 0.9215 - loss: 0.2207 - val_accuracy: 0.9375 - val_loss: 0.2035\n",
      "Epoch 71/100\n",
      "\u001b[1m10/10\u001b[0m \u001b[32m━━━━━━━━━━━━━━━━━━━━\u001b[0m\u001b[37m\u001b[0m \u001b[1m0s\u001b[0m 10ms/step - accuracy: 0.8972 - loss: 0.2655 - val_accuracy: 0.9375 - val_loss: 0.2057\n",
      "Epoch 72/100\n",
      "\u001b[1m10/10\u001b[0m \u001b[32m━━━━━━━━━━━━━━━━━━━━\u001b[0m\u001b[37m\u001b[0m \u001b[1m0s\u001b[0m 10ms/step - accuracy: 0.8794 - loss: 0.2963 - val_accuracy: 0.9375 - val_loss: 0.2030\n",
      "Epoch 73/100\n",
      "\u001b[1m10/10\u001b[0m \u001b[32m━━━━━━━━━━━━━━━━━━━━\u001b[0m\u001b[37m\u001b[0m \u001b[1m0s\u001b[0m 10ms/step - accuracy: 0.8934 - loss: 0.2734 - val_accuracy: 0.9375 - val_loss: 0.2031\n",
      "Epoch 74/100\n",
      "\u001b[1m10/10\u001b[0m \u001b[32m━━━━━━━━━━━━━━━━━━━━\u001b[0m\u001b[37m\u001b[0m \u001b[1m0s\u001b[0m 11ms/step - accuracy: 0.9049 - loss: 0.2588 - val_accuracy: 0.9375 - val_loss: 0.2038\n",
      "Epoch 75/100\n",
      "\u001b[1m10/10\u001b[0m \u001b[32m━━━━━━━━━━━━━━━━━━━━\u001b[0m\u001b[37m\u001b[0m \u001b[1m0s\u001b[0m 10ms/step - accuracy: 0.9242 - loss: 0.2273 - val_accuracy: 0.9250 - val_loss: 0.2049\n",
      "Epoch 76/100\n",
      "\u001b[1m10/10\u001b[0m \u001b[32m━━━━━━━━━━━━━━━━━━━━\u001b[0m\u001b[37m\u001b[0m \u001b[1m0s\u001b[0m 10ms/step - accuracy: 0.8965 - loss: 0.2544 - val_accuracy: 0.9375 - val_loss: 0.2066\n",
      "Epoch 77/100\n",
      "\u001b[1m10/10\u001b[0m \u001b[32m━━━━━━━━━━━━━━━━━━━━\u001b[0m\u001b[37m\u001b[0m \u001b[1m0s\u001b[0m 10ms/step - accuracy: 0.9215 - loss: 0.2211 - val_accuracy: 0.9375 - val_loss: 0.2069\n",
      "Epoch 78/100\n",
      "\u001b[1m10/10\u001b[0m \u001b[32m━━━━━━━━━━━━━━━━━━━━\u001b[0m\u001b[37m\u001b[0m \u001b[1m0s\u001b[0m 10ms/step - accuracy: 0.8926 - loss: 0.2577 - val_accuracy: 0.9375 - val_loss: 0.2056\n",
      "Epoch 79/100\n",
      "\u001b[1m10/10\u001b[0m \u001b[32m━━━━━━━━━━━━━━━━━━━━\u001b[0m\u001b[37m\u001b[0m \u001b[1m0s\u001b[0m 10ms/step - accuracy: 0.8976 - loss: 0.2715 - val_accuracy: 0.9375 - val_loss: 0.2039\n",
      "Epoch 80/100\n",
      "\u001b[1m10/10\u001b[0m \u001b[32m━━━━━━━━━━━━━━━━━━━━\u001b[0m\u001b[37m\u001b[0m \u001b[1m0s\u001b[0m 10ms/step - accuracy: 0.8702 - loss: 0.2844 - val_accuracy: 0.9375 - val_loss: 0.2044\n",
      "Epoch 81/100\n",
      "\u001b[1m10/10\u001b[0m \u001b[32m━━━━━━━━━━━━━━━━━━━━\u001b[0m\u001b[37m\u001b[0m \u001b[1m0s\u001b[0m 10ms/step - accuracy: 0.9026 - loss: 0.2649 - val_accuracy: 0.9375 - val_loss: 0.2043\n",
      "Epoch 82/100\n",
      "\u001b[1m10/10\u001b[0m \u001b[32m━━━━━━━━━━━━━━━━━━━━\u001b[0m\u001b[37m\u001b[0m \u001b[1m0s\u001b[0m 10ms/step - accuracy: 0.8937 - loss: 0.2531 - val_accuracy: 0.9375 - val_loss: 0.2058\n",
      "Epoch 83/100\n",
      "\u001b[1m10/10\u001b[0m \u001b[32m━━━━━━━━━━━━━━━━━━━━\u001b[0m\u001b[37m\u001b[0m \u001b[1m0s\u001b[0m 10ms/step - accuracy: 0.9040 - loss: 0.2516 - val_accuracy: 0.9375 - val_loss: 0.2062\n",
      "Epoch 84/100\n",
      "\u001b[1m10/10\u001b[0m \u001b[32m━━━━━━━━━━━━━━━━━━━━\u001b[0m\u001b[37m\u001b[0m \u001b[1m0s\u001b[0m 10ms/step - accuracy: 0.8888 - loss: 0.2761 - val_accuracy: 0.9375 - val_loss: 0.2052\n",
      "Epoch 85/100\n",
      "\u001b[1m10/10\u001b[0m \u001b[32m━━━━━━━━━━━━━━━━━━━━\u001b[0m\u001b[37m\u001b[0m \u001b[1m0s\u001b[0m 9ms/step - accuracy: 0.9117 - loss: 0.2411 - val_accuracy: 0.9375 - val_loss: 0.2063\n",
      "Epoch 86/100\n",
      "\u001b[1m10/10\u001b[0m \u001b[32m━━━━━━━━━━━━━━━━━━━━\u001b[0m\u001b[37m\u001b[0m \u001b[1m0s\u001b[0m 9ms/step - accuracy: 0.9130 - loss: 0.2514 - val_accuracy: 0.9375 - val_loss: 0.2055\n",
      "Epoch 87/100\n",
      "\u001b[1m10/10\u001b[0m \u001b[32m━━━━━━━━━━━━━━━━━━━━\u001b[0m\u001b[37m\u001b[0m \u001b[1m0s\u001b[0m 10ms/step - accuracy: 0.9097 - loss: 0.2480 - val_accuracy: 0.9375 - val_loss: 0.2046\n",
      "Epoch 88/100\n",
      "\u001b[1m10/10\u001b[0m \u001b[32m━━━━━━━━━━━━━━━━━━━━\u001b[0m\u001b[37m\u001b[0m \u001b[1m0s\u001b[0m 9ms/step - accuracy: 0.9192 - loss: 0.2332 - val_accuracy: 0.9375 - val_loss: 0.2066\n",
      "Epoch 89/100\n",
      "\u001b[1m10/10\u001b[0m \u001b[32m━━━━━━━━━━━━━━━━━━━━\u001b[0m\u001b[37m\u001b[0m \u001b[1m0s\u001b[0m 10ms/step - accuracy: 0.9381 - loss: 0.1934 - val_accuracy: 0.9375 - val_loss: 0.2050\n",
      "Epoch 90/100\n",
      "\u001b[1m10/10\u001b[0m \u001b[32m━━━━━━━━━━━━━━━━━━━━\u001b[0m\u001b[37m\u001b[0m \u001b[1m0s\u001b[0m 9ms/step - accuracy: 0.9104 - loss: 0.2307 - val_accuracy: 0.9375 - val_loss: 0.2060\n",
      "Epoch 91/100\n",
      "\u001b[1m10/10\u001b[0m \u001b[32m━━━━━━━━━━━━━━━━━━━━\u001b[0m\u001b[37m\u001b[0m \u001b[1m0s\u001b[0m 10ms/step - accuracy: 0.9068 - loss: 0.2487 - val_accuracy: 0.9375 - val_loss: 0.2055\n",
      "Epoch 92/100\n",
      "\u001b[1m10/10\u001b[0m \u001b[32m━━━━━━━━━━━━━━━━━━━━\u001b[0m\u001b[37m\u001b[0m \u001b[1m0s\u001b[0m 10ms/step - accuracy: 0.9201 - loss: 0.2213 - val_accuracy: 0.9375 - val_loss: 0.2072\n",
      "Epoch 93/100\n",
      "\u001b[1m10/10\u001b[0m \u001b[32m━━━━━━━━━━━━━━━━━━━━\u001b[0m\u001b[37m\u001b[0m \u001b[1m0s\u001b[0m 10ms/step - accuracy: 0.9158 - loss: 0.2491 - val_accuracy: 0.9375 - val_loss: 0.2063\n",
      "Epoch 94/100\n",
      "\u001b[1m10/10\u001b[0m \u001b[32m━━━━━━━━━━━━━━━━━━━━\u001b[0m\u001b[37m\u001b[0m \u001b[1m0s\u001b[0m 10ms/step - accuracy: 0.8890 - loss: 0.2648 - val_accuracy: 0.9375 - val_loss: 0.2061\n",
      "Epoch 95/100\n",
      "\u001b[1m10/10\u001b[0m \u001b[32m━━━━━━━━━━━━━━━━━━━━\u001b[0m\u001b[37m\u001b[0m \u001b[1m0s\u001b[0m 10ms/step - accuracy: 0.9026 - loss: 0.2452 - val_accuracy: 0.9375 - val_loss: 0.2061\n",
      "Epoch 96/100\n",
      "\u001b[1m10/10\u001b[0m \u001b[32m━━━━━━━━━━━━━━━━━━━━\u001b[0m\u001b[37m\u001b[0m \u001b[1m0s\u001b[0m 10ms/step - accuracy: 0.9141 - loss: 0.2350 - val_accuracy: 0.9375 - val_loss: 0.2075\n",
      "Epoch 97/100\n",
      "\u001b[1m10/10\u001b[0m \u001b[32m━━━━━━━━━━━━━━━━━━━━\u001b[0m\u001b[37m\u001b[0m \u001b[1m0s\u001b[0m 9ms/step - accuracy: 0.9362 - loss: 0.2094 - val_accuracy: 0.9375 - val_loss: 0.2055\n",
      "Epoch 98/100\n",
      "\u001b[1m10/10\u001b[0m \u001b[32m━━━━━━━━━━━━━━━━━━━━\u001b[0m\u001b[37m\u001b[0m \u001b[1m0s\u001b[0m 10ms/step - accuracy: 0.9071 - loss: 0.2396 - val_accuracy: 0.9375 - val_loss: 0.2071\n",
      "Epoch 99/100\n",
      "\u001b[1m10/10\u001b[0m \u001b[32m━━━━━━━━━━━━━━━━━━━━\u001b[0m\u001b[37m\u001b[0m \u001b[1m0s\u001b[0m 10ms/step - accuracy: 0.9133 - loss: 0.2305 - val_accuracy: 0.9375 - val_loss: 0.2082\n",
      "Epoch 100/100\n",
      "\u001b[1m10/10\u001b[0m \u001b[32m━━━━━━━━━━━━━━━━━━━━\u001b[0m\u001b[37m\u001b[0m \u001b[1m0s\u001b[0m 10ms/step - accuracy: 0.9187 - loss: 0.2496 - val_accuracy: 0.9375 - val_loss: 0.2093\n"
     ]
    }
   ],
   "source": [
    "history = model.fit(X_trained_scaled, y_train, epochs=100, validation_data=(X_test_scaled, y_test))"
   ]
  },
  {
   "cell_type": "code",
   "execution_count": 24,
   "id": "94293b40",
   "metadata": {
    "execution": {
     "iopub.execute_input": "2025-08-15T14:55:36.319963Z",
     "iopub.status.busy": "2025-08-15T14:55:36.319521Z",
     "iopub.status.idle": "2025-08-15T14:55:36.495343Z",
     "shell.execute_reply": "2025-08-15T14:55:36.494283Z"
    },
    "papermill": {
     "duration": 0.216876,
     "end_time": "2025-08-15T14:55:36.496951",
     "exception": false,
     "start_time": "2025-08-15T14:55:36.280075",
     "status": "completed"
    },
    "tags": []
   },
   "outputs": [
    {
     "data": {
      "text/plain": [
       "[<matplotlib.lines.Line2D at 0x7d790431b350>]"
      ]
     },
     "execution_count": 24,
     "metadata": {},
     "output_type": "execute_result"
    },
    {
     "data": {
      "image/png": "[encoded data removed]",
      "text/plain": [
       "<Figure size 640x480 with 1 Axes>"
      ]
     },
     "metadata": {},
     "output_type": "display_data"
    }
   ],
   "source": [
    "plt.plot(history.history['val_accuracy'])"
   ]
  },
  {
   "cell_type": "code",
   "execution_count": null,
   "id": "2fcf726c",
   "metadata": {
    "papermill": {
     "duration": 0.036654,
     "end_time": "2025-08-15T14:55:36.570842",
     "exception": false,
     "start_time": "2025-08-15T14:55:36.534188",
     "status": "completed"
    },
    "tags": []
   },
   "outputs": [],
   "source": []
  }
 ],
 "metadata": {
  "kaggle": {
   "accelerator": "none",
   "dataSources": [
    {
     "datasetId": 1394586,
     "sourceId": 2311467,
     "sourceType": "datasetVersion"
    }
   ],
   "dockerImageVersionId": 31089,
   "isGpuEnabled": false,
   "isInternetEnabled": false,
   "language": "python",
   "sourceType": "notebook"
  },
  "kernelspec": {
   "display_name": "Python 3",
   "language": "python",
   "name": "python3"
  },
  "language_info": {
   "codemirror_mode": {
    "name": "ipython",
    "version": 3
   },
   "file_extension": ".py",
   "mimetype": "text/x-python",
   "name": "python",
   "nbconvert_exporter": "python",
   "pygments_lexer": "ipython3",
   "version": "3.11.13"
  },
  "papermill": {
   "default_parameters": {},
   "duration": 59.282303,
   "end_time": "2025-08-15T14:55:39.632297",
   "environment_variables": {},
   "exception": null,
   "input_path": "__notebook__.ipynb",
   "output_path": "__notebook__.ipynb",
   "parameters": {},
   "start_time": "2025-08-15T14:54:40.349994",
   "version": "2.6.0"
  }
 },
 "nbformat": 4,
 "nbformat_minor": 5
}
